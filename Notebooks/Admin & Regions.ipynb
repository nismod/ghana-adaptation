{
 "cells": [
  {
   "cell_type": "code",
   "execution_count": null,
   "metadata": {},
   "outputs": [],
   "source": [
    "import os\n",
    "\n",
    "import geopandas as gpd\n",
    "import pandas as pd\n",
    "\n",
    "from ghaa.config import load_config"
   ]
  },
  {
   "cell_type": "code",
   "execution_count": null,
   "metadata": {},
   "outputs": [],
   "source": [
    "basepath = load_config()['base_path']"
   ]
  },
  {
   "cell_type": "markdown",
   "metadata": {},
   "source": [
    "# Admin"
   ]
  },
  {
   "cell_type": "code",
   "execution_count": null,
   "metadata": {},
   "outputs": [],
   "source": [
    "adminpath = os.path.join(basepath,'incoming/admin-boundaries')"
   ]
  },
  {
   "cell_type": "markdown",
   "metadata": {},
   "source": [
    "## Admin Level 0 - National Border"
   ]
  },
  {
   "cell_type": "code",
   "execution_count": null,
   "metadata": {},
   "outputs": [],
   "source": [
    "admin0_path = os.path.join(adminpath, 'ID 25 Adm Boundaries & Settlements - humdata.org OCHA/wca_adm0/wca_adm0.shp')\n",
    "GHA_admin0 = gpd.read_file(admin0_path)"
   ]
  },
  {
   "cell_type": "code",
   "execution_count": null,
   "metadata": {},
   "outputs": [],
   "source": [
    "GHA_admin0 = GHA_admin0[GHA_admin0.admin0Pcod.isin((\"GH\", \"TG\", \"BF\", \"BJ\", \"CI\"))]"
   ]
  },
  {
   "cell_type": "code",
   "execution_count": null,
   "metadata": {},
   "outputs": [],
   "source": [
    "GHA_admin0 = GHA_admin0.to_crs(\"EPSG:32630\")"
   ]
  },
  {
   "cell_type": "code",
   "execution_count": null,
   "metadata": {},
   "outputs": [],
   "source": [
    "GHA_admin0 = GHA_admin0 [['admin0Name', 'admin0Pcod', 'geometry']]\n",
    "GHA_admin0 = GHA_admin0.reset_index()\n",
    "GHA_admin0 = GHA_admin0.rename(columns = {'index':'ID', 'admin0Name':'ADMIN_0_NAME', 'admin0Pcod':'ADMIN_0_PCOD'})"
   ]
  },
  {
   "cell_type": "code",
   "execution_count": null,
   "metadata": {},
   "outputs": [],
   "source": [
    "GHA_admin0.head()"
   ]
  },
  {
   "cell_type": "code",
   "execution_count": null,
   "metadata": {},
   "outputs": [],
   "source": [
    "GHA_admin0.to_file(os.path.join(\n",
    "basepath,'data','admin','GHA_admin0.gpkg'), layer='GHA_admin0', driver=\"GPKG\")"
   ]
  },
  {
   "cell_type": "markdown",
   "metadata": {},
   "source": [
    "## Admin Level 1 - ..."
   ]
  },
  {
   "cell_type": "code",
   "execution_count": null,
   "metadata": {},
   "outputs": [],
   "source": [
    "admin1_path = os.path.join(adminpath, 'ID 25 Adm Boundaries & Settlements - humdata.org OCHA/wca_adm1/wca_admbnda_adm1_ocha.shp')\n",
    "GHA_admin1 = gpd.read_file(admin1_path)"
   ]
  },
  {
   "cell_type": "code",
   "execution_count": null,
   "metadata": {},
   "outputs": [],
   "source": [
    "GHA_admin1 = GHA_admin1.to_crs(\"EPSG:32630\")"
   ]
  },
  {
   "cell_type": "code",
   "execution_count": null,
   "metadata": {},
   "outputs": [],
   "source": [
    "GHA_admin1 = GHA_admin1[(GHA_admin1.admin0Name == \"Ghana\")]"
   ]
  },
  {
   "cell_type": "code",
   "execution_count": null,
   "metadata": {},
   "outputs": [],
   "source": [
    "GHA_admin1 = GHA_admin1 [['admin0Name', 'admin0Pcod', 'admin1Name', 'admin1Pcod', 'geometry']]\n",
    "GHA_admin1 = GHA_admin1.reset_index()\n",
    "GHA_admin1 = GHA_admin1.rename(columns = {'index':'ID','admin0Name':'ADMIN_0_NAME', 'admin0Pcod':'ADMIN_0_PCOD', 'admin1Name':'ADMIN_1_NAME', 'admin1Pcod':'ADMIN_1_PCOD'})"
   ]
  },
  {
   "cell_type": "code",
   "execution_count": null,
   "metadata": {},
   "outputs": [],
   "source": [
    "GHA_admin1.head()"
   ]
  },
  {
   "cell_type": "code",
   "execution_count": null,
   "metadata": {},
   "outputs": [],
   "source": [
    "GHA_admin1.to_file(os.path.join(\n",
    "basepath,'data','admin','GHA_admin1.gpkg'), layer='GHA_admin1', driver=\"GPKG\")"
   ]
  },
  {
   "cell_type": "markdown",
   "metadata": {},
   "source": [
    "## Admin Level 2 - Districts"
   ]
  },
  {
   "cell_type": "code",
   "execution_count": null,
   "metadata": {},
   "outputs": [],
   "source": [
    "admin2_path = os.path.join(adminpath, 'ID 25 Adm Boundaries & Settlements - humdata.org OCHA/wca_adm2/wca_admbnda_adm2_ocha.shp')\n",
    "GHA_admin2 = gpd.read_file(admin2_path)"
   ]
  },
  {
   "cell_type": "code",
   "execution_count": null,
   "metadata": {},
   "outputs": [],
   "source": [
    "GHA_admin2 = GHA_admin2.to_crs(\"EPSG:32630\")"
   ]
  },
  {
   "cell_type": "code",
   "execution_count": null,
   "metadata": {},
   "outputs": [],
   "source": [
    "GHA_admin2 = GHA_admin2[(GHA_admin2.admin0Name == \"Ghana\")]"
   ]
  },
  {
   "cell_type": "code",
   "execution_count": null,
   "metadata": {},
   "outputs": [],
   "source": [
    "GHA_admin2 = GHA_admin2 [['admin0Name', 'admin0Pcod', 'admin1Name', 'admin1Pcod', 'admin2Name', 'admin2Pcod', 'geometry']]\n",
    "GHA_admin2 = GHA_admin2.reset_index()\n",
    "GHA_admin2 = GHA_admin2.rename(columns = {'index':'ID','admin0Name':'ADMIN_0_NAME', 'admin0Pcod':'ADMIN_0_PCOD', 'admin1Name':'ADMIN_1_NAME', 'admin1Pcod':'ADMIN_1_PCOD', 'admin2Name':'ADMIN_2_NAME', 'admin2Pcod':'ADMIN_2_PCOD'})"
   ]
  },
  {
   "cell_type": "code",
   "execution_count": null,
   "metadata": {},
   "outputs": [],
   "source": [
    "GHA_admin2.head()"
   ]
  },
  {
   "cell_type": "code",
   "execution_count": null,
   "metadata": {},
   "outputs": [],
   "source": [
    "GHA_admin2.to_file(os.path.join(\n",
    "basepath,'data','admin','GHA_admin2.gpkg'), layer='GHA_admin2', driver=\"GPKG\")"
   ]
  },
  {
   "cell_type": "markdown",
   "metadata": {},
   "source": [
    "## District Capitals"
   ]
  },
  {
   "cell_type": "code",
   "execution_count": null,
   "metadata": {},
   "outputs": [],
   "source": [
    "distr_cap_path = os.path.join(adminpath, 'ID 12 District Capitals - World Bank Data Catalog/GHA_District_Capitals.shp')\n",
    "GHA_distr_cap = gpd.read_file(distr_cap_path)"
   ]
  },
  {
   "cell_type": "code",
   "execution_count": null,
   "metadata": {},
   "outputs": [],
   "source": [
    "GHA_distr_cap = GHA_distr_cap.to_crs(\"EPSG:32630\")"
   ]
  },
  {
   "cell_type": "code",
   "execution_count": null,
   "metadata": {},
   "outputs": [],
   "source": [
    "GHA_distr_cap = GHA_distr_cap [['NAMECAP', 'DISTRICT', 'POPCAP', 'geometry']]\n",
    "GHA_distr_cap = GHA_distr_cap.reset_index()\n",
    "GHA_distr_cap = GHA_distr_cap.rename(columns = {'index':'ID','NAMECAP':'NAME', 'POPCAP':'POPULATION'})"
   ]
  },
  {
   "cell_type": "code",
   "execution_count": null,
   "metadata": {},
   "outputs": [],
   "source": [
    "GHA_distr_cap.head()"
   ]
  },
  {
   "cell_type": "code",
   "execution_count": null,
   "metadata": {},
   "outputs": [],
   "source": [
    "GHA_distr_cap.to_file(os.path.join(\n",
    "basepath,'data','admin','GHA_admin2_capitals.gpkg'), layer='DistrictCapitals', driver=\"GPKG\")"
   ]
  },
  {
   "cell_type": "code",
   "execution_count": null,
   "metadata": {},
   "outputs": [],
   "source": []
  }
 ],
 "metadata": {
  "kernelspec": {
   "display_name": "Python 3",
   "language": "python",
   "name": "python3"
  },
  "language_info": {
   "codemirror_mode": {
    "name": "ipython",
    "version": 3
   },
   "file_extension": ".py",
   "mimetype": "text/x-python",
   "name": "python",
   "nbconvert_exporter": "python",
   "pygments_lexer": "ipython3",
   "version": "3.7.6"
  }
 },
 "nbformat": 4,
 "nbformat_minor": 4
}
