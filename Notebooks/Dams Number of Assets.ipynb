{
 "cells": [
  {
   "cell_type": "code",
   "execution_count": null,
   "metadata": {},
   "outputs": [],
   "source": [
    "import os\n",
    "import sys\n",
    "import geopandas as gpd\n",
    "import pandas as pd\n",
    "%matplotlib notebook\n",
    "import matplotlib.pyplot as plt"
   ]
  },
  {
   "cell_type": "code",
   "execution_count": null,
   "metadata": {},
   "outputs": [],
   "source": [
    "os.getcwd()"
   ]
  },
  {
   "cell_type": "code",
   "execution_count": null,
   "metadata": {},
   "outputs": [],
   "source": [
    "basepath = 'C:\\\\Users\\\\Sarah\\\\Nexus365\\\\Tom Russell - ghana-oxford-infrastructure-adaptation-2020'"
   ]
  },
  {
   "cell_type": "code",
   "execution_count": null,
   "metadata": {},
   "outputs": [],
   "source": [
    "dams_path = os.path.join(basepath, 'data/infrastructure/Points/GHA_dams.gpkg')\n",
    "GHA_dams = gpd.read_file(dams_path)\n",
    "\n",
    "#pp_fl_future_low_path = os.path.join(basepath, 'results/exposure/GHA_powerplant_new_flood_future_3-4.gpkg')\n",
    "#GHA_pp_fl_fut_low = gpd.read_file(pp_fl_future_low_path)"
   ]
  },
  {
   "cell_type": "code",
   "execution_count": null,
   "metadata": {},
   "outputs": [],
   "source": [
    "pp_fl_future_high_path = os.path.join(basepath, 'results/exposure/GHA_powerplant_OPR_new_flood_future_5-6.gpkg')\n",
    "GHA_pp_fl_fut_high = gpd.read_file(pp_fl_future_high_path)"
   ]
  },
  {
   "cell_type": "code",
   "execution_count": null,
   "metadata": {},
   "outputs": [],
   "source": [
    "#pp_ls_high_path = os.path.join(basepath, 'results/exposure/GHA_powerplant_opr__GHA_landslides_3.gpkg')\n",
    "#GHA_pp_ls_high = gpd.read_file(pp_ls_high_path)"
   ]
  },
  {
   "cell_type": "code",
   "execution_count": null,
   "metadata": {},
   "outputs": [],
   "source": [
    "admin_path = os.path.join(basepath, 'data/admin/GHA_admin1.gpkg')\n",
    "GHA_admin1 = gpd.read_file(admin_path)"
   ]
  },
  {
   "cell_type": "code",
   "execution_count": null,
   "metadata": {},
   "outputs": [],
   "source": [
    "intersections_econ_path = os.path.join(\n",
    "    basepath, 'results', 'intersections_econ_merged.csv')\n",
    "\n",
    "econ_haz_cap_path = os.path.join(\n",
    "    basepath, 'results', 'econ_hazards_capacity.csv')\n",
    "\n",
    "econ_haz_count_path = os.path.join(\n",
    "    basepath, 'results','econ_hazards_sector_count_exp.csv')\n",
    "\n",
    "econ_haz_cap_adm_path = os.path.join(\n",
    "    basepath, 'results','econ_hazards_cap_admin_exp.csv')\n",
    "\n",
    "pp_merged_admin_percent_path = os.path.join(\n",
    "    basepath, 'results','pp_merged_admin_percent_exp.csv')"
   ]
  },
  {
   "cell_type": "code",
   "execution_count": null,
   "metadata": {},
   "outputs": [],
   "source": [
    "GHA_pp"
   ]
  },
  {
   "cell_type": "code",
   "execution_count": null,
   "metadata": {},
   "outputs": [],
   "source": [
    "GHA_pp_fl_fut_high.head(0)"
   ]
  },
  {
   "cell_type": "code",
   "execution_count": null,
   "metadata": {},
   "outputs": [],
   "source": [
    "#GHA_pp_ls_high"
   ]
  },
  {
   "cell_type": "code",
   "execution_count": null,
   "metadata": {},
   "outputs": [],
   "source": [
    "GHA_admin1"
   ]
  },
  {
   "cell_type": "code",
   "execution_count": null,
   "metadata": {},
   "outputs": [],
   "source": [
    "GHA_pp_admin1 = gpd.sjoin(GHA_pp, GHA_admin1, how=\"inner\", op='intersects')"
   ]
  },
  {
   "cell_type": "code",
   "execution_count": null,
   "metadata": {},
   "outputs": [],
   "source": [
    "GHA_pp_admin1.head()"
   ]
  },
  {
   "cell_type": "code",
   "execution_count": null,
   "metadata": {},
   "outputs": [],
   "source": [
    " GHA_pp_admin1 = GHA_pp_admin1[[\n",
    "        'ID',\n",
    "        'NAME',\n",
    "        'CAPACITY_M',\n",
    "        'index_right',\n",
    "        'ADMIN_1_NAME',\n",
    "        'geometry']]\n",
    "    \n",
    "GHA_pp_admin1 = GHA_pp_admin1.rename(columns={\n",
    "        'ID':'network_id','index_right': 'admin_id', 'CAPACITY_M':'CAPACITY_MW'\n",
    "    })"
   ]
  },
  {
   "cell_type": "code",
   "execution_count": null,
   "metadata": {},
   "outputs": [],
   "source": [
    "GHA_pp_admin1.head(0)"
   ]
  },
  {
   "cell_type": "markdown",
   "metadata": {},
   "source": [
    "## Add hazards as columns (Intersections merged economics with each hazard as separate column)"
   ]
  },
  {
   "cell_type": "markdown",
   "metadata": {},
   "source": [
    "def load_hazard(data_folder, hazard_id):  \n",
    "    hazard_path = os.path.join(\n",
    "        data_folder, 'data', 'hazards', '{}.shp'.format(hazard_id))\n",
    "    hazards = geopandas.read_file(hazard_path)\n",
    "    \n",
    "hazard_ids = ['1m_sea-level','4m_storm-surge','flashflooding','landslide_susceptibility']"
   ]
  },
  {
   "cell_type": "code",
   "execution_count": null,
   "metadata": {},
   "outputs": [],
   "source": [
    "### def intersect_hazard_with_pp(hazards, sectors, hazard_id, sector_id):\n",
    "    \n",
    "all_intersections = []\n",
    "    \n",
    "    ### INTERSECTIONS WITH High fLOOD\n",
    "GHA_pp_fl_fut_high['hazard_id'] = 1\n",
    "\n",
    "GHA_pp_fl_fut_high = GHA_pp_fl_fut_high[[\n",
    "        'network_id',\n",
    "         'name',\n",
    "         'hazard_id',\n",
    "    ]]\n",
    "    \n",
    "GHA_pp_fl_fut_high = GHA_pp_fl_fut_high.rename(columns={\n",
    "    'hazard_id':'flood_fut_high',\n",
    "})   "
   ]
  },
  {
   "cell_type": "code",
   "execution_count": null,
   "metadata": {},
   "outputs": [],
   "source": [
    "GHA_pp_fl_fut_high.head(10)"
   ]
  },
  {
   "cell_type": "markdown",
   "metadata": {},
   "source": [
    "intersections_pp_fl = intersections_pp_fl.drop_duplicates(subset='sector_id', keep='first')"
   ]
  },
  {
   "cell_type": "code",
   "execution_count": null,
   "metadata": {},
   "outputs": [],
   "source": [
    "GHA_pp_fl_fut_high = GHA_pp_fl_fut_high.fillna(0)\n",
    "\n",
    "all_intersections.append(GHA_pp_fl_fut_high)"
   ]
  },
  {
   "cell_type": "markdown",
   "metadata": {},
   "source": [
    "    ### INTERSECTIONS WITH Low fLOOD\n",
    "GHA_pp_fl_fut_low['hazard_id'] = 1\n",
    "\n",
    "GHA_pp_fl_fut_low = GHA_pp_fl_fut_low[[\n",
    "        'network_id',\n",
    "         'name',\n",
    "         'hazard_id',\n",
    "    ]]\n",
    "    \n",
    "GHA_pp_fl_fut_low = GHA_pp_fl_fut_low.rename(columns={\n",
    "    'hazard_id':'flood_fut_low',\n",
    "})   \n",
    "\n",
    "GHA_pp_fl_fut_low = GHA_pp_fl_fut_low.fillna(0)\n",
    "\n",
    "all_intersections.append(GHA_pp_fl_fut_low)"
   ]
  },
  {
   "cell_type": "code",
   "execution_count": null,
   "metadata": {},
   "outputs": [],
   "source": [
    "### INTERSECTIONS WITH LANDSLIDE\n",
    "\n",
    "GHA_pp_ls_high['hazard_id'] = 1\n",
    "\n",
    "GHA_pp_ls_high = GHA_pp_ls_high[[\n",
    "    'network_id',\n",
    "    'name',\n",
    "    'hazard_id'\n",
    "    ]]\n",
    "    \n",
    "GHA_pp_ls_high = GHA_pp_ls_high.rename(columns={\n",
    "        'hazard_id': 'ls_high'\n",
    "    })\n",
    "\n",
    "GHA_pp_ls_high = GHA_pp_ls_high.fillna(0)\n",
    "\n",
    "all_intersections.append(GHA_pp_ls_high)"
   ]
  },
  {
   "cell_type": "code",
   "execution_count": null,
   "metadata": {},
   "outputs": [],
   "source": [
    "all_intersections = pd.concat(all_intersections, axis=0, sort=False)\n",
    "all_intersections = all_intersections.fillna(0)\n",
    "\n",
    "all_intersections.to_csv(intersections_econ_path)\n"
   ]
  },
  {
   "cell_type": "code",
   "execution_count": null,
   "metadata": {},
   "outputs": [],
   "source": [
    "all_intersections.head(20)"
   ]
  },
  {
   "cell_type": "markdown",
   "metadata": {},
   "source": [
    "## Hazard with cap/adm - Overview of all economic assets and whether they are exposed "
   ]
  },
  {
   "cell_type": "code",
   "execution_count": null,
   "metadata": {},
   "outputs": [],
   "source": [
    "merged_intersections = pd.merge(\n",
    "    GHA_pp_admin1, all_intersections, how = 'outer', on=['network_id']) \n",
    "merged_intersections = merged_intersections.fillna(0)\n",
    "merged_intersections.head()"
   ]
  },
  {
   "cell_type": "code",
   "execution_count": null,
   "metadata": {},
   "outputs": [],
   "source": [
    "merged_intersections.to_csv(econ_haz_count_path, index=False)"
   ]
  },
  {
   "cell_type": "markdown",
   "metadata": {},
   "source": [
    "## Add capacities to each hazard"
   ]
  },
  {
   "cell_type": "code",
   "execution_count": null,
   "metadata": {},
   "outputs": [],
   "source": [
    "hazard_ids =['flood_fut_high']\n",
    "for hazard_id in hazard_ids:\n",
    "    merged_intersections[hazard_id] = merged_intersections[hazard_id]* merged_intersections['CAPACITY_MW']\n",
    "\n",
    "merged_intersections = merged_intersections[['network_id', 'NAME', 'CAPACITY_MW', 'admin_id', 'ADMIN_1_NAME', 'flood_fut_high', 'geometry']]\n",
    "merged_intersections.to_csv(econ_haz_cap_path, index=False)\n",
    "merged_intersections\n"
   ]
  },
  {
   "cell_type": "markdown",
   "metadata": {},
   "source": [
    "## Add multiple hazard calculation"
   ]
  },
  {
   "cell_type": "code",
   "execution_count": null,
   "metadata": {},
   "outputs": [],
   "source": [
    "merged_intersections = pd.read_csv(econ_haz_cap_path)"
   ]
  },
  {
   "cell_type": "code",
   "execution_count": null,
   "metadata": {},
   "outputs": [],
   "source": [
    "list =['flood_fut_high']\n",
    "#ensure all values are numeric\n",
    "merged_intersections[list] = merged_intersections[list].apply(pd.to_numeric)"
   ]
  },
  {
   "cell_type": "markdown",
   "metadata": {},
   "source": [
    "**!!!**\n",
    "\n",
    "**doesn't it make more sense not to include capacity in the list, so that this is not sumed up, but then join it afterwards?**\n",
    "\n",
    "**!!!**"
   ]
  },
  {
   "cell_type": "code",
   "execution_count": null,
   "metadata": {},
   "outputs": [],
   "source": [
    "# Merge information for each asset - grouping by \n",
    "# -> If network_id is the same, add the columns for each of the hazards\n",
    "merged_intersections = merged_intersections.groupby([\n",
    "    'network_id', 'ADMIN_1_NAME', 'geometry'\n",
    "    ])[\n",
    "    list\n",
    "    ].sum()\n",
    "merged_intersections"
   ]
  },
  {
   "cell_type": "code",
   "execution_count": null,
   "metadata": {},
   "outputs": [],
   "source": [
    "merged_intersections = merged_intersections.merge(GHA_pp_admin1, on='network_id')\n",
    "merged_intersections"
   ]
  },
  {
   "cell_type": "markdown",
   "metadata": {},
   "source": [
    "## Calculate per Admin district"
   ]
  },
  {
   "cell_type": "code",
   "execution_count": null,
   "metadata": {},
   "outputs": [],
   "source": [
    "list =['flood_fut_high','CAPACITY_MW']"
   ]
  },
  {
   "cell_type": "code",
   "execution_count": null,
   "metadata": {},
   "outputs": [],
   "source": [
    "# Trying to merge information for each Admin district - grouping by \n",
    "# -> If ADMIN_1_NAME is the same, add the columns for each of the hazards\n",
    "merged_districts = merged_intersections.groupby([\n",
    "    'ADMIN_1_NAME',\n",
    "    ])[\n",
    "    list\n",
    "    ].sum()\n",
    "merged_districts"
   ]
  },
  {
   "cell_type": "code",
   "execution_count": null,
   "metadata": {},
   "outputs": [],
   "source": [
    "merged_districts.to_csv(econ_haz_cap_adm_path)"
   ]
  },
  {
   "cell_type": "code",
   "execution_count": null,
   "metadata": {},
   "outputs": [],
   "source": [
    "merged_distr_percent = pd.read_csv(econ_haz_cap_adm_path)\n",
    "\n",
    "hazard_ids =['flood_fut_high']\n",
    "for hazard_id in hazard_ids:\n",
    "    merged_distr_percent[hazard_id] = merged_distr_percent[hazard_id]/ merged_distr_percent['CAPACITY_MW']*100\n",
    "    merged_distr_percent = merged_distr_percent.rename(columns = {hazard_id:hazard_id+'_%'})\n",
    "    \n",
    "merged_distr_percent = merged_distr_percent.drop('CAPACITY_MW', 1)\n",
    "merged_distr_percent = merged_districts.merge(merged_distr_percent, on='ADMIN_1_NAME')\n",
    "\n",
    "merged_distr_percent = merged_distr_percent.merge(GHA_admin1, on='ADMIN_1_NAME')\n",
    "\n",
    "\n",
    "merged_distr_percent"
   ]
  },
  {
   "cell_type": "code",
   "execution_count": null,
   "metadata": {},
   "outputs": [],
   "source": [
    "#merged_distr_percent_all = pd.concat(GHA_admin1, merged_distr_percent, sort=False)"
   ]
  },
  {
   "cell_type": "code",
   "execution_count": null,
   "metadata": {},
   "outputs": [],
   "source": [
    "merged_distr_percent.to_csv(pp_merged_admin_percent_path)"
   ]
  },
  {
   "cell_type": "code",
   "execution_count": null,
   "metadata": {},
   "outputs": [],
   "source": []
  }
 ],
 "metadata": {
  "kernelspec": {
   "display_name": "Python 3",
   "language": "python",
   "name": "python3"
  },
  "language_info": {
   "codemirror_mode": {
    "name": "ipython",
    "version": 3
   },
   "file_extension": ".py",
   "mimetype": "text/x-python",
   "name": "python",
   "nbconvert_exporter": "python",
   "pygments_lexer": "ipython3",
   "version": "3.7.9"
  }
 },
 "nbformat": 4,
 "nbformat_minor": 4
}
