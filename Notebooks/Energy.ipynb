{
 "cells": [
  {
   "cell_type": "code",
   "execution_count": null,
   "metadata": {},
   "outputs": [],
   "source": [
    "%matplotlib inline\n",
    "import pandas as pd\n",
    "import geopandas as gpd\n",
    "import os"
   ]
  },
  {
   "cell_type": "code",
   "execution_count": null,
   "metadata": {},
   "outputs": [],
   "source": [
    "os.getcwd()"
   ]
  },
  {
   "cell_type": "code",
   "execution_count": null,
   "metadata": {},
   "outputs": [],
   "source": [
    "basepath = 'C:\\\\Users\\\\Sarah\\\\Nexus365\\\\Tom Russell - ghana-oxford-infrastructure-adaptation-2020'"
   ]
  },
  {
   "cell_type": "code",
   "execution_count": null,
   "metadata": {},
   "outputs": [],
   "source": [
    "ghana = gpd.read_file(os.path.join(basepath, 'incoming\\\\Ghana.shp'))\n",
    "ghana.set_crs(\"EPSG:4326\")"
   ]
  },
  {
   "cell_type": "markdown",
   "metadata": {},
   "source": [
    "# Energy"
   ]
  },
  {
   "cell_type": "code",
   "execution_count": null,
   "metadata": {},
   "outputs": [],
   "source": [
    "energypath = os.path.join(basepath,'incoming/energy')"
   ]
  },
  {
   "cell_type": "markdown",
   "metadata": {},
   "source": [
    "## Energy - Transmission Lines"
   ]
  },
  {
   "cell_type": "code",
   "execution_count": null,
   "metadata": {},
   "outputs": [],
   "source": [
    "etransm_path = os.path.join(energypath, 'Energy Transmission Network/ID 4 World Bank Catalog - C.Aderne/ghanafinal.geojson')\n",
    "GHA_etransm = gpd.read_file(etransm_path)"
   ]
  },
  {
   "cell_type": "code",
   "execution_count": null,
   "metadata": {},
   "outputs": [],
   "source": [
    "GHA_etransm = gpd.overlay(GHA_etransm, ghana, how='intersection')"
   ]
  },
  {
   "cell_type": "code",
   "execution_count": null,
   "metadata": {},
   "outputs": [],
   "source": [
    "GHA_etransm=GHA_etransm[['voltage_kV','year','status','length_km','geometry']]"
   ]
  },
  {
   "cell_type": "code",
   "execution_count": null,
   "metadata": {},
   "outputs": [],
   "source": [
    "GHA_etransm=GHA_etransm.reset_index()"
   ]
  },
  {
   "cell_type": "code",
   "execution_count": null,
   "metadata": {},
   "outputs": [],
   "source": [
    "GHA_etransm=GHA_etransm.rename(columns = {\n",
    "    'index':'ID', 'voltage_kV':'VOLTAGE_kV','year':'YEAR','status':'STATUS','length_km':'LENGTH_km'\n",
    "})"
   ]
  },
  {
   "cell_type": "code",
   "execution_count": null,
   "metadata": {},
   "outputs": [],
   "source": [
    "GHA_etransm.head()"
   ]
  },
  {
   "cell_type": "code",
   "execution_count": null,
   "metadata": {},
   "outputs": [],
   "source": [
    "GHA_etransm.to_file(os.path.join(\n",
    "basepath,'data','infrastructure','GHA_transmissionlines.shp'))"
   ]
  },
  {
   "cell_type": "markdown",
   "metadata": {},
   "source": [
    "## Energy - Power Plants"
   ]
  },
  {
   "cell_type": "markdown",
   "metadata": {},
   "source": [
    "There are two dataframes with powerplants, one from the World Bank Catalog and one from ECOVREX"
   ]
  },
  {
   "cell_type": "markdown",
   "metadata": {},
   "source": [
    "### Dataframe Powerplants World Bank Catalog:"
   ]
  },
  {
   "cell_type": "code",
   "execution_count": null,
   "metadata": {},
   "outputs": [],
   "source": [
    "powerWB_path = os.path.join(energypath, 'Power plants & stations/ID 1 - World Bank Catalog (WEPP2006)/GHA_PowerPlants.shp')\n",
    "GHA_powerplWB = gpd.read_file(powerWB_path)"
   ]
  },
  {
   "cell_type": "code",
   "execution_count": null,
   "metadata": {},
   "outputs": [],
   "source": [
    "GHA_powerplWB = GHA_powerplWB.set_crs(\"EPSG:4326\")"
   ]
  },
  {
   "cell_type": "code",
   "execution_count": null,
   "metadata": {},
   "outputs": [],
   "source": [
    "GHA_powerplWB = GHA_powerplWB[['PLANT','GEN_TYPE','STATUS','SUM_MW','geometry',]]\n",
    "\n",
    "GHA_powerplWB=GHA_powerplWB.rename(columns = {\n",
    "        'PLANT':'NAME', 'GEN_TYPE':'TYPE','SUM_MW':'CAPACITY_MW'\n",
    "    })"
   ]
  },
  {
   "cell_type": "code",
   "execution_count": null,
   "metadata": {},
   "outputs": [],
   "source": [
    "GHA_powerplWB.head()"
   ]
  },
  {
   "cell_type": "markdown",
   "metadata": {},
   "source": [
    "### Dataframe from ECOVREX:"
   ]
  },
  {
   "cell_type": "code",
   "execution_count": null,
   "metadata": {},
   "outputs": [],
   "source": [
    "powerECOV_path = os.path.join(energypath, 'Power plants & stations/ID67-ecreee_energy_generators/ecreee_energy_generators.shp')\n",
    "GHA_powerplECOV = gpd.read_file(powerECOV_path)"
   ]
  },
  {
   "cell_type": "code",
   "execution_count": null,
   "metadata": {},
   "outputs": [],
   "source": [
    "GHA_powerplECOV = GHA_powerplECOV.set_crs(\"EPSG:4326\")"
   ]
  },
  {
   "cell_type": "markdown",
   "metadata": {},
   "source": [
    "GHA_powerplECOV = gpd.overlay(ghana, GHA_powerplECOV, how='intersection') - ask Tom"
   ]
  },
  {
   "cell_type": "code",
   "execution_count": null,
   "metadata": {},
   "outputs": [],
   "source": [
    "GHA_powerplECOV = GHA_powerplECOV[(GHA_powerplECOV.country == \"Ghana\")]"
   ]
  },
  {
   "cell_type": "code",
   "execution_count": null,
   "metadata": {},
   "outputs": [],
   "source": [
    "GHA_powerplECOV = GHA_powerplECOV[['title','eg_type','current_st','current_ca','geometry']]\n",
    "GHA_powerplECOV = GHA_powerplECOV.rename(columns = {'title':'NAME','eg_type':'TYPE','current_st':'STATUS','current_ca':'CAPACITY_MW'})"
   ]
  },
  {
   "cell_type": "markdown",
   "metadata": {},
   "source": [
    "Deleted columns: nid, eg_type_id, initiative, ree_cat, Size, Longitude & Latitude"
   ]
  },
  {
   "cell_type": "code",
   "execution_count": null,
   "metadata": {},
   "outputs": [],
   "source": [
    "GHA_powerplECOV.head()"
   ]
  },
  {
   "cell_type": "markdown",
   "metadata": {},
   "source": [
    "### Concatenate both data frames"
   ]
  },
  {
   "cell_type": "code",
   "execution_count": null,
   "metadata": {},
   "outputs": [],
   "source": [
    "GHA_powerpl_concat = pd.concat([GHA_powerplWB, GHA_powerplECOV], sort=False, keys=['PP_WB','PP_ECOV'])\n",
    "GHA_powerpl_concat = GHA_powerpl_concat.reset_index()"
   ]
  },
  {
   "cell_type": "code",
   "execution_count": null,
   "metadata": {},
   "outputs": [],
   "source": [
    "GHA_powerpl_concat"
   ]
  },
  {
   "cell_type": "code",
   "execution_count": null,
   "metadata": {},
   "outputs": [],
   "source": [
    "GHA_powerpl_concat.to_file(os.path.join(\n",
    "basepath,'data','infrastructure','GHA_powerplant.shp'))"
   ]
  },
  {
   "cell_type": "code",
   "execution_count": null,
   "metadata": {},
   "outputs": [],
   "source": []
  }
 ],
 "metadata": {
  "kernelspec": {
   "display_name": "Python 3",
   "language": "python",
   "name": "python3"
  },
  "language_info": {
   "codemirror_mode": {
    "name": "ipython",
    "version": 3
   },
   "file_extension": ".py",
   "mimetype": "text/x-python",
   "name": "python",
   "nbconvert_exporter": "python",
   "pygments_lexer": "ipython3",
   "version": "3.7.9"
  }
 },
 "nbformat": 4,
 "nbformat_minor": 4
}
