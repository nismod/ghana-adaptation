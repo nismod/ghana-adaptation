{
 "cells": [
  {
   "cell_type": "code",
   "execution_count": null,
   "metadata": {},
   "outputs": [],
   "source": [
    "%matplotlib inline\n",
    "import pandas as pd\n",
    "import geopandas as gpd\n",
    "import os"
   ]
  },
  {
   "cell_type": "code",
   "execution_count": null,
   "metadata": {},
   "outputs": [],
   "source": [
    "os.getcwd()"
   ]
  },
  {
   "cell_type": "code",
   "execution_count": null,
   "metadata": {},
   "outputs": [],
   "source": [
    "basepath = 'C:\\\\Users\\\\Sarah\\\\Nexus365\\\\Tom Russell - ghana-oxford-infrastructure-adaptation-2020'"
   ]
  },
  {
   "cell_type": "code",
   "execution_count": null,
   "metadata": {},
   "outputs": [],
   "source": [
    "ghana = gpd.read_file(os.path.join(basepath, 'incoming\\\\Ghana.shp'))\n",
    "ghana = ghana.to_crs(\"EPSG:32630\")"
   ]
  },
  {
   "cell_type": "markdown",
   "metadata": {},
   "source": [
    "# Energy"
   ]
  },
  {
   "cell_type": "code",
   "execution_count": null,
   "metadata": {},
   "outputs": [],
   "source": [
    "energypath = os.path.join(basepath,'incoming/energy')"
   ]
  },
  {
   "cell_type": "markdown",
   "metadata": {},
   "source": [
    "## Energy - Transmission Lines"
   ]
  },
  {
   "cell_type": "code",
   "execution_count": null,
   "metadata": {},
   "outputs": [],
   "source": [
    "etransm_path = os.path.join(energypath, 'Energy Transmission Network/ID 4 World Bank Catalog - C.Aderne/ghanafinal.geojson')\n",
    "GHA_etransm = gpd.read_file(etransm_path)"
   ]
  },
  {
   "cell_type": "code",
   "execution_count": null,
   "metadata": {},
   "outputs": [],
   "source": [
    "GHA_etransm = GHA_etransm.to_crs(\"EPSG:32630\")"
   ]
  },
  {
   "cell_type": "code",
   "execution_count": null,
   "metadata": {},
   "outputs": [],
   "source": [
    "GHA_etransm = gpd.overlay(GHA_etransm, ghana, how='intersection')"
   ]
  },
  {
   "cell_type": "code",
   "execution_count": null,
   "metadata": {},
   "outputs": [],
   "source": [
    "GHA_etransm=GHA_etransm[['admin0Pcod','voltage_kV','year','status','length_km','geometry']]"
   ]
  },
  {
   "cell_type": "code",
   "execution_count": null,
   "metadata": {},
   "outputs": [],
   "source": [
    "GHA_etransm=GHA_etransm.reset_index()"
   ]
  },
  {
   "cell_type": "code",
   "execution_count": null,
   "metadata": {},
   "outputs": [],
   "source": [
    "GHA_etransm=GHA_etransm.rename(columns = {\n",
    "    'index':'ID', 'admin0Pcod':'NAME', 'voltage_kV':'VOLTAGE_kV','year':'YEAR','status':'STATUS','length_km':'LENGTH_km'\n",
    "})"
   ]
  },
  {
   "cell_type": "code",
   "execution_count": null,
   "metadata": {},
   "outputs": [],
   "source": [
    "GHA_etransm.head()"
   ]
  },
  {
   "cell_type": "code",
   "execution_count": null,
   "metadata": {},
   "outputs": [],
   "source": [
    "GHA_etransm.to_file(os.path.join(\n",
    "basepath,'data','infrastructure','GHA_transmissionlines.gpkg'), layer='transmissionlines', driver=\"GPKG\")"
   ]
  },
  {
   "cell_type": "markdown",
   "metadata": {},
   "source": [
    "## Electricity Grid - ID82 gridfinder"
   ]
  },
  {
   "cell_type": "code",
   "execution_count": null,
   "metadata": {},
   "outputs": [],
   "source": [
    "grid_path = os.path.join(energypath, 'Energy Transmission Network/ID82 gridfinder/grid.gpkg')\n",
    "GHA_grid = gpd.read_file(grid_path)"
   ]
  },
  {
   "cell_type": "code",
   "execution_count": null,
   "metadata": {},
   "outputs": [],
   "source": [
    "GHA_grid = GHA_grid.to_crs(\"EPSG:32630\")"
   ]
  },
  {
   "cell_type": "code",
   "execution_count": null,
   "metadata": {},
   "outputs": [],
   "source": [
    "GHA_grid = gpd.overlay(GHA_grid, ghana, how='intersection')"
   ]
  },
  {
   "cell_type": "code",
   "execution_count": null,
   "metadata": {},
   "outputs": [],
   "source": [
    "GHA_grid = GHA_grid[['admin0Pcod','geometry']]"
   ]
  },
  {
   "cell_type": "code",
   "execution_count": null,
   "metadata": {},
   "outputs": [],
   "source": [
    "GHA_grid = GHA_grid.reset_index()"
   ]
  },
  {
   "cell_type": "code",
   "execution_count": null,
   "metadata": {},
   "outputs": [],
   "source": [
    "GHA_grid = GHA_grid.rename(columns = {'index':'ID','admin0Pcod':'NAME'})"
   ]
  },
  {
   "cell_type": "code",
   "execution_count": null,
   "metadata": {},
   "outputs": [],
   "source": [
    "GHA_grid.head()"
   ]
  },
  {
   "cell_type": "code",
   "execution_count": null,
   "metadata": {},
   "outputs": [],
   "source": [
    "GHA_grid.to_file(os.path.join(\n",
    "basepath,'data','infrastructure','GHA_grid.gpkg'), layer='grid', driver=\"GPKG\")"
   ]
  },
  {
   "cell_type": "markdown",
   "metadata": {},
   "source": [
    "## Energy - Substations"
   ]
  },
  {
   "cell_type": "markdown",
   "metadata": {},
   "source": [
    "### Substations - OSM data"
   ]
  },
  {
   "cell_type": "markdown",
   "metadata": {},
   "source": [
    "Subset 1"
   ]
  },
  {
   "cell_type": "code",
   "execution_count": null,
   "metadata": {},
   "outputs": [],
   "source": [
    "substation1_path = os.path.join(energypath, 'Energy Transmission Network/OSM substations/OSM_substations1.shp')\n",
    "GHA_subst1 = gpd.read_file(substation1_path)"
   ]
  },
  {
   "cell_type": "code",
   "execution_count": null,
   "metadata": {},
   "outputs": [],
   "source": [
    "GHA_subst1 = GHA_subst1.to_crs(\"EPSG:32630\")"
   ]
  },
  {
   "cell_type": "code",
   "execution_count": null,
   "metadata": {},
   "outputs": [],
   "source": [
    "GHA_subst1 = GHA_subst1[['name','substation','voltage','geometry']]\n",
    "GHA_subst1.reset_index()\n",
    "GHA_subst1 = GHA_subst1.rename(columns = {'index':'ID','name':'NAME','substation':'TYPE','voltage':'VOLTAGE'})"
   ]
  },
  {
   "cell_type": "code",
   "execution_count": null,
   "metadata": {},
   "outputs": [],
   "source": [
    "GHA_subst1.head(2)"
   ]
  },
  {
   "cell_type": "markdown",
   "metadata": {},
   "source": [
    "Subset 2"
   ]
  },
  {
   "cell_type": "code",
   "execution_count": null,
   "metadata": {},
   "outputs": [],
   "source": [
    "substation2_path = os.path.join(energypath, 'Energy Transmission Network/OSM substations/OSM_substations2.shp')\n",
    "GHA_subst2 = gpd.read_file(substation2_path)"
   ]
  },
  {
   "cell_type": "code",
   "execution_count": null,
   "metadata": {},
   "outputs": [],
   "source": [
    "GHA_subst2 = GHA_subst2.to_crs(\"EPSG:32630\")"
   ]
  },
  {
   "cell_type": "code",
   "execution_count": null,
   "metadata": {},
   "outputs": [],
   "source": [
    "GHA_subst2 = GHA_subst2[['name','substation','voltage','operator','geometry']]\n",
    "GHA_subst2.reset_index()\n",
    "GHA_subst2 = GHA_subst2.rename(columns = {'index':'ID','name':'NAME','substation':'TYPE','voltage':'VOLTAGE','operator':'OPERATOR'})"
   ]
  },
  {
   "cell_type": "code",
   "execution_count": null,
   "metadata": {},
   "outputs": [],
   "source": [
    "GHA_subst2.head(2)"
   ]
  },
  {
   "cell_type": "markdown",
   "metadata": {},
   "source": [
    "Subset 3"
   ]
  },
  {
   "cell_type": "code",
   "execution_count": null,
   "metadata": {},
   "outputs": [],
   "source": [
    "substation3_path = os.path.join(energypath, 'Energy Transmission Network/OSM substations/OSM_substations3.shp')\n",
    "GHA_subst3 = gpd.read_file(substation3_path)"
   ]
  },
  {
   "cell_type": "code",
   "execution_count": null,
   "metadata": {},
   "outputs": [],
   "source": [
    "GHA_subst3 = GHA_subst3.to_crs(\"EPSG:32630\")"
   ]
  },
  {
   "cell_type": "code",
   "execution_count": null,
   "metadata": {},
   "outputs": [],
   "source": [
    "GHA_subst3 = GHA_subst3[['name','substation','operator','geometry']]\n",
    "GHA_subst3.reset_index()\n",
    "GHA_subst3 = GHA_subst3.rename(columns = {'index':'ID','name':'NAME','substation':'TYPE','operator':'OPERATOR'})"
   ]
  },
  {
   "cell_type": "code",
   "execution_count": null,
   "metadata": {},
   "outputs": [],
   "source": [
    "GHA_subst3.head(2)"
   ]
  },
  {
   "cell_type": "markdown",
   "metadata": {},
   "source": [
    "### Concatenate three dataframes"
   ]
  },
  {
   "cell_type": "code",
   "execution_count": null,
   "metadata": {},
   "outputs": [],
   "source": [
    "GHA_subst_concat = pd.concat([GHA_subst2, GHA_subst3, GHA_subst1], sort=False)\n",
    "GHA_subst_concat = GHA_subst_concat.reset_index()\n",
    "GHA_subst_concat = GHA_subst_concat.rename(columns = {'index':'ID'})"
   ]
  },
  {
   "cell_type": "code",
   "execution_count": null,
   "metadata": {},
   "outputs": [],
   "source": [
    "GHA_subst_concat.head()"
   ]
  },
  {
   "cell_type": "code",
   "execution_count": null,
   "metadata": {},
   "outputs": [],
   "source": [
    "GHA_subst_concat.to_file(os.path.join(\n",
    "basepath,'data','infrastructure','GHA_substations.gpkg'), layer='substations', driver=\"GPKG\")"
   ]
  },
  {
   "cell_type": "markdown",
   "metadata": {},
   "source": [
    "## Energy - Power Plants"
   ]
  },
  {
   "cell_type": "markdown",
   "metadata": {},
   "source": [
    "There are two dataframes with powerplants, one from the World Bank Catalog and one from ECOVREX"
   ]
  },
  {
   "cell_type": "markdown",
   "metadata": {},
   "source": [
    "### Dataframe Powerplants World Bank Catalog:"
   ]
  },
  {
   "cell_type": "code",
   "execution_count": null,
   "metadata": {},
   "outputs": [],
   "source": [
    "powerWB_path = os.path.join(energypath, 'Power plants & stations/ID 1 - World Bank Catalog (WEPP2006)/GHA_PowerPlants.shp')\n",
    "GHA_powerplWB = gpd.read_file(powerWB_path)"
   ]
  },
  {
   "cell_type": "code",
   "execution_count": null,
   "metadata": {},
   "outputs": [],
   "source": [
    "GHA_powerplWB = GHA_powerplWB.set_crs(\"EPSG:32630\")"
   ]
  },
  {
   "cell_type": "code",
   "execution_count": null,
   "metadata": {},
   "outputs": [],
   "source": [
    "GHA_powerplWB = GHA_powerplWB[['PLANT','GEN_TYPE','STATUS','SUM_MW','geometry',]]\n",
    "\n",
    "GHA_powerplWB=GHA_powerplWB.rename(columns = {\n",
    "        'PLANT':'NAME', 'GEN_TYPE':'TYPE','SUM_MW':'CAPACITY_MW'\n",
    "    })"
   ]
  },
  {
   "cell_type": "code",
   "execution_count": null,
   "metadata": {},
   "outputs": [],
   "source": [
    "GHA_powerplWB.head()"
   ]
  },
  {
   "cell_type": "markdown",
   "metadata": {},
   "source": [
    "### Dataframe from ECOVREX:"
   ]
  },
  {
   "cell_type": "code",
   "execution_count": null,
   "metadata": {},
   "outputs": [],
   "source": [
    "powerECOV_path = os.path.join(energypath, 'Power plants & stations/ID67-ecreee_energy_generators/ecreee_energy_generators.shp')\n",
    "GHA_powerplECOV = gpd.read_file(powerECOV_path)"
   ]
  },
  {
   "cell_type": "code",
   "execution_count": null,
   "metadata": {},
   "outputs": [],
   "source": [
    "GHA_powerplECOV = GHA_powerplECOV[GHA_powerplECOV.geometry.notnull()]\n",
    "GHA_powerplECOV = GHA_powerplECOV.to_crs(\"EPSG:32630\")"
   ]
  },
  {
   "cell_type": "code",
   "execution_count": null,
   "metadata": {},
   "outputs": [],
   "source": [
    "GHA_powerplECOV = GHA_powerplECOV[(GHA_powerplECOV.country == \"Ghana\")]"
   ]
  },
  {
   "cell_type": "code",
   "execution_count": null,
   "metadata": {},
   "outputs": [],
   "source": [
    "GHA_powerplECOV = GHA_powerplECOV[['title','eg_type','current_st','current_ca','geometry']]\n",
    "GHA_powerplECOV = GHA_powerplECOV.rename(columns = {'title':'NAME','eg_type':'TYPE','current_st':'STATUS','current_ca':'CAPACITY_MW'})"
   ]
  },
  {
   "cell_type": "markdown",
   "metadata": {},
   "source": [
    "Deleted columns: nid, eg_type_id, initiative, ree_cat, Size, Longitude & Latitude"
   ]
  },
  {
   "cell_type": "code",
   "execution_count": null,
   "metadata": {},
   "outputs": [],
   "source": [
    "GHA_powerplECOV.head()"
   ]
  },
  {
   "cell_type": "markdown",
   "metadata": {},
   "source": [
    "### Concatenate both data frames"
   ]
  },
  {
   "cell_type": "markdown",
   "metadata": {},
   "source": [
    "just removed , keys=['PP_WB','PP_ECOV'] to fix Index"
   ]
  },
  {
   "cell_type": "code",
   "execution_count": null,
   "metadata": {},
   "outputs": [],
   "source": [
    "GHA_powerpl_concat = pd.concat([GHA_powerplWB, GHA_powerplECOV], sort=False)\n",
    "GHA_powerpl_concat = GHA_powerpl_concat.reset_index()\n",
    "GHA_powerpl_concat = GHA_powerpl_concat.rename(columns = {'index':'ID'})"
   ]
  },
  {
   "cell_type": "code",
   "execution_count": null,
   "metadata": {},
   "outputs": [],
   "source": [
    "GHA_powerpl_concat.head(20)"
   ]
  },
  {
   "cell_type": "code",
   "execution_count": null,
   "metadata": {},
   "outputs": [],
   "source": [
    "GHA_powerpl_concat.to_file(os.path.join(\n",
    "basepath,'data','infrastructure','GHA_powerplant.gpkg'), layer='powerplants', driver=\"GPKG\")"
   ]
  },
  {
   "cell_type": "code",
   "execution_count": null,
   "metadata": {},
   "outputs": [],
   "source": [
    "GHA_powerpl_opr1 = GHA_powerpl_concat[(GHA_powerpl_concat.STATUS == \"OPR\")]\n",
    "GHA_powerpl_opr2 = GHA_powerpl_concat[(GHA_powerpl_concat.STATUS == \"Operatinal\")]\n",
    "\n",
    "GHA_powerpl_opr = pd.concat([GHA_powerpl_opr1, GHA_powerpl_opr2], sort=False)"
   ]
  },
  {
   "cell_type": "code",
   "execution_count": null,
   "metadata": {},
   "outputs": [],
   "source": [
    "GHA_powerpl_opr = GHA_powerpl_opr[['NAME','TYPE','CAPACITY_MW','geometry']]\n",
    "GHA_powerpl_opr = GHA_powerpl_opr.reset_index()\n",
    "GHA_powerpl_opr = GHA_powerpl_opr.rename(columns ={'index':'ID'})"
   ]
  },
  {
   "cell_type": "code",
   "execution_count": null,
   "metadata": {},
   "outputs": [],
   "source": [
    "GHA_powerpl_opr.head()"
   ]
  },
  {
   "cell_type": "code",
   "execution_count": null,
   "metadata": {},
   "outputs": [],
   "source": [
    "GHA_powerpl_opr.to_file(os.path.join(\n",
    "basepath,'data','infrastructure','Points','GHA_powerplant_opr.gpkg'), layer='powerplants_opr', driver=\"GPKG\")"
   ]
  },
  {
   "cell_type": "code",
   "execution_count": null,
   "metadata": {},
   "outputs": [],
   "source": []
  }
 ],
 "metadata": {
  "kernelspec": {
   "display_name": "Python 3",
   "language": "python",
   "name": "python3"
  },
  "language_info": {
   "codemirror_mode": {
    "name": "ipython",
    "version": 3
   },
   "file_extension": ".py",
   "mimetype": "text/x-python",
   "name": "python",
   "nbconvert_exporter": "python",
   "pygments_lexer": "ipython3",
   "version": "3.7.9"
  }
 },
 "nbformat": 4,
 "nbformat_minor": 4
}
