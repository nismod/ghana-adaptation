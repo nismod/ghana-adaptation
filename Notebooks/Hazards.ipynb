{
 "cells": [
  {
   "cell_type": "code",
   "execution_count": null,
   "metadata": {},
   "outputs": [],
   "source": [
    "import glob\n",
    "import json\n",
    "import os\n",
    "import subprocess\n",
    "\n",
    "import geopandas\n",
    "import pandas\n",
    "from tqdm.notebook import tqdm"
   ]
  },
  {
   "cell_type": "code",
   "execution_count": null,
   "metadata": {},
   "outputs": [],
   "source": [
    "with open(\"../config.json\") as fh:\n",
    "    config = json.load(fh)\n",
    "config"
   ]
  },
  {
   "cell_type": "code",
   "execution_count": null,
   "metadata": {},
   "outputs": [],
   "source": [
    "flood_risk_rasters = glob.glob(os.path.join(\n",
    "    config['base_path'], 'incoming', 'hazards', 'Maps_Eric', 'flood_hazard', 'ID*'))\n",
    "\n",
    "flood_risk_rasters"
   ]
  },
  {
   "cell_type": "code",
   "execution_count": null,
   "metadata": {},
   "outputs": [],
   "source": [
    "\"Id_future_asda\".contains(\"future\")"
   ]
  },
  {
   "cell_type": "code",
   "execution_count": null,
   "metadata": {},
   "outputs": [],
   "source": [
    "for raster_path in flood_risk_rasters:\n",
    "    if \"future\" in os.path.basename(raster_path):\n",
    "        name = \"future\"\n",
    "    else:\n",
    "        name = \"current\"\n",
    "        \n",
    "    print(name)\n",
    "    tile_dir = os.path.join(\n",
    "        config['base_path'], 'data', 'hazards', name, 'tiles')\n",
    "    \n",
    "    sp = subprocess.run([\"mkdir\", \"-p\", tile_dir], capture_output=True)\n",
    "    print(sp.stdout.decode('utf-8'))\n",
    "                         \n",
    "    sp = subprocess.run(\n",
    "        [\"gdal_retile.py\", \"-ps\", \"1024\", \"1024\", \"-targetDir\", tile_dir, raster_path], \n",
    "        capture_output=True)\n",
    "    print(sp.stdout.decode('utf-8'))"
   ]
  },
  {
   "cell_type": "code",
   "execution_count": null,
   "metadata": {},
   "outputs": [],
   "source": [
    "for raster_path in flood_risk_rasters:    \n",
    "    if \"future\" in os.path.basename(raster_path):\n",
    "        name = \"future\"\n",
    "    else:\n",
    "        name = \"current\"\n",
    "    \n",
    "    tile_dir = os.path.join(config['base_path'], 'data', 'hazards', name, 'tiles')\n",
    "    \n",
    "    threshold_dir = os.path.normpath(os.path.join(tile_dir, '..', 'thresholds'))\n",
    "    subprocess.run([\"mkdir\", \"-p\", threshold_dir])\n",
    "                   \n",
    "    vector_dir = os.path.normpath(os.path.join(tile_dir, '..', 'polygons'))\n",
    "    subprocess.run([\"mkdir\", \"-p\", vector_dir])\n",
    "    \n",
    "    for tile_path in glob.glob(tile_dir + '/*.tif'):\n",
    "        tile_name = os.path.basename(tile_path).replace(\".tif\", \"\")\n",
    "        \n",
    "        # thresholds = [0.0, 0.25, 0.5, 1.0, 2.0, 3.0, 5.0, 10.0, 999.0]\n",
    "        thresholds = [3,5,7]\n",
    "        \n",
    "        for min_depth, max_depth in zip(thresholds, thresholds[1:]):    \n",
    "            # Calculate mask where raster values are between thresholds\n",
    "            sp = subprocess.run([\n",
    "                \"gdal_calc.py\",\n",
    "                \"-A\", \n",
    "                f\"{tile_dir}/{tile_name}.tif\",\n",
    "                f\"--outfile={threshold_dir}/{tile_name}_{min_depth}m{max_depth}m.tif\",\n",
    "                f\"--calc=logical_and(A>={min_depth},A<{max_depth})\",\n",
    "                \"--format=GTiff\",\n",
    "                \"--type=Byte\",\n",
    "                \"--NoDataValue=0\",\n",
    "                \"--co=SPARSE_OK=YES\",\n",
    "                \"--quiet\",\n",
    "                \"--co=COMPRESS=LZW\",\n",
    "            ], check=True)\n",
    "\n",
    "            # Convert raster masks to vector polygons\n",
    "            sp = subprocess.run([\n",
    "                \"gdal_polygonize.py\",\n",
    "                f\"{threshold_dir}/{tile_name}_{min_depth}m{max_depth}m.tif\",\n",
    "                \"-q\",\n",
    "                \"-f\", \n",
    "                \"GPKG\",\n",
    "                f\"{vector_dir}/{tile_name}_{min_depth}m{max_depth}m.gpkg\"\n",
    "            ], check=True)"
   ]
  },
  {
   "cell_type": "code",
   "execution_count": null,
   "metadata": {},
   "outputs": [],
   "source": [
    "for raster_path in flood_risk_rasters:    \n",
    "    if \"future\" in os.path.basename(raster_path):\n",
    "        name = \"future\"\n",
    "    else:\n",
    "        name = \"current\"\n",
    "    \n",
    "    vector_dir = os.path.join(config['base_path'], 'data', 'hazards', name, 'polygons')\n",
    "    \n",
    "    for min_depth, max_depth in zip(thresholds, thresholds[1:]):    \n",
    "        match = os.path.join(vector_dir, f\"*{min_depth}m{max_depth}m.gpkg\")\n",
    "        tiles = glob.glob(match)\n",
    "        \n",
    "        dfs = []\n",
    "        for tile in tqdm(tiles):\n",
    "            df = geopandas.read_file(tile)\n",
    "            dfs.append(df)\n",
    "            \n",
    "        df = pandas.concat(dfs)\n",
    "        df.to_file(\n",
    "            os.path.join(config['base_path'], 'data', 'hazards', f\"{name}_{min_depth}-{max_depth - 1}.gpkg\"),\n",
    "            driver=\"GPKG\"\n",
    "        )\n",
    "    "
   ]
  },
  {
   "cell_type": "code",
   "execution_count": null,
   "metadata": {},
   "outputs": [],
   "source": [
    "for raster_path in flood_risk_rasters:    \n",
    "    if \"future\" in os.path.basename(raster_path):\n",
    "        name = \"future\"\n",
    "    else:\n",
    "        name = \"current\"\n",
    "    \n",
    "    # Clean up - remove working directories\n",
    "    working_dir = os.path.join(config['base_path'], 'data', 'hazards', name)\n",
    "    subprocess.run([\"rm\", \"-r\", working_dir])"
   ]
  },
  {
   "cell_type": "markdown",
   "metadata": {},
   "source": [
    "# Drought Maps"
   ]
  },
  {
   "cell_type": "code",
   "execution_count": null,
   "metadata": {},
   "outputs": [],
   "source": [
    "basepath = 'C:\\\\Users\\\\Sarah\\\\Nexus365\\\\Tom Russell - ghana-oxford-infrastructure-adaptation-2020'"
   ]
  },
  {
   "cell_type": "markdown",
   "metadata": {},
   "source": [
    "## Drought Hazard Map Eric 2010"
   ]
  },
  {
   "cell_type": "code",
   "execution_count": null,
   "metadata": {},
   "outputs": [],
   "source": [
    "drought2010_path = os.path.join(basepath, 'incoming/hazards/Maps_Eric/hazard_drought_2010.shp')\n",
    "GHA_drought2010 = geopandas.read_file(drought2010_path)"
   ]
  },
  {
   "cell_type": "code",
   "execution_count": null,
   "metadata": {},
   "outputs": [],
   "source": [
    "GHA_drought2010 = GHA_drought2010.to_crs(\"EPSG:32630\")"
   ]
  },
  {
   "cell_type": "code",
   "execution_count": null,
   "metadata": {},
   "outputs": [],
   "source": [
    "GHA_drought2010 = GHA_drought2010[['DN','geometry']]\n",
    "GHA_drought2010 = GHA_drought2010.reset_index()\n",
    "GHA_drought2010 = GHA_drought2010.rename(columns = {'index':'ID', 'DN':'HAZARD_LEVEL'})"
   ]
  },
  {
   "cell_type": "code",
   "execution_count": null,
   "metadata": {},
   "outputs": [],
   "source": [
    "GHA_drought2010.head()"
   ]
  },
  {
   "cell_type": "code",
   "execution_count": null,
   "metadata": {},
   "outputs": [],
   "source": [
    "GHA_drought2010.to_file(os.path.join(\n",
    "basepath,'data','hazards','drought','GHA_drought2010.gpkg'), layer='drought2010', driver=\"GPKG\")"
   ]
  },
  {
   "cell_type": "markdown",
   "metadata": {},
   "source": [
    "#### Create extra layer for each Hazard level"
   ]
  },
  {
   "cell_type": "code",
   "execution_count": null,
   "metadata": {},
   "outputs": [],
   "source": [
    "GHA_drought2010_1 = GHA_drought2010[(GHA_drought2010.HAZARD_LEVEL == 1)]"
   ]
  },
  {
   "cell_type": "code",
   "execution_count": null,
   "metadata": {},
   "outputs": [],
   "source": [
    "GHA_drought2010_1 = GHA_drought2010_1[['HAZARD_LEVEL','geometry']]\n",
    "GHA_drought2010_1 = GHA_drought2010_1.reset_index()"
   ]
  },
  {
   "cell_type": "code",
   "execution_count": null,
   "metadata": {},
   "outputs": [],
   "source": [
    "GHA_drought2010_1.to_file(os.path.join(\n",
    "basepath,'data','hazards','drought','GHA_drought2010_1.gpkg'), layer='drought2010_1', driver=\"GPKG\")"
   ]
  },
  {
   "cell_type": "code",
   "execution_count": null,
   "metadata": {},
   "outputs": [],
   "source": [
    "GHA_drought2010_2 = GHA_drought2010[(GHA_drought2010.HAZARD_LEVEL == 2)]"
   ]
  },
  {
   "cell_type": "code",
   "execution_count": null,
   "metadata": {},
   "outputs": [],
   "source": [
    "GHA_drought2010_2 = GHA_drought2010_2[['HAZARD_LEVEL','geometry']]\n",
    "GHA_drought2010_2 = GHA_drought2010_2.reset_index()"
   ]
  },
  {
   "cell_type": "code",
   "execution_count": null,
   "metadata": {},
   "outputs": [],
   "source": [
    "GHA_drought2010_2.to_file(os.path.join(\n",
    "basepath,'data','hazards','drought','GHA_drought2010_2.gpkg'), layer='drought2010_2', driver=\"GPKG\")"
   ]
  },
  {
   "cell_type": "code",
   "execution_count": null,
   "metadata": {},
   "outputs": [],
   "source": [
    "GHA_drought2010_3 = GHA_drought2010[(GHA_drought2010.HAZARD_LEVEL == 3)]"
   ]
  },
  {
   "cell_type": "code",
   "execution_count": null,
   "metadata": {},
   "outputs": [],
   "source": [
    "GHA_drought2010_3 = GHA_drought2010_3[['HAZARD_LEVEL','geometry']]\n",
    "GHA_drought2010_3 = GHA_drought2010_3.reset_index()"
   ]
  },
  {
   "cell_type": "code",
   "execution_count": null,
   "metadata": {},
   "outputs": [],
   "source": [
    "GHA_drought2010_3.to_file(os.path.join(\n",
    "basepath,'data','hazards','drought','GHA_drought2010_3.gpkg'), layer='drought2010_3', driver=\"GPKG\")"
   ]
  },
  {
   "cell_type": "markdown",
   "metadata": {},
   "source": [
    "## Drought Hazard Map Eric 2050"
   ]
  },
  {
   "cell_type": "code",
   "execution_count": null,
   "metadata": {},
   "outputs": [],
   "source": [
    "drought2050_path = os.path.join(basepath, 'incoming/hazards/Maps_Eric/hazard_drought_2050.shp')\n",
    "GHA_drought2050 = geopandas.read_file(drought2050_path)"
   ]
  },
  {
   "cell_type": "code",
   "execution_count": null,
   "metadata": {},
   "outputs": [],
   "source": [
    "GHA_drought2050 = GHA_drought2050.to_crs(\"EPSG:32630\")"
   ]
  },
  {
   "cell_type": "code",
   "execution_count": null,
   "metadata": {},
   "outputs": [],
   "source": [
    "GHA_drought2050 = GHA_drought2050.reset_index()"
   ]
  },
  {
   "cell_type": "code",
   "execution_count": null,
   "metadata": {},
   "outputs": [],
   "source": [
    "GHA_drought2050 = GHA_drought2050[['index','DN','geometry']]\n",
    "GHA_drought2050 = GHA_drought2050.rename(columns = {'index':'ID', 'DN':'HAZARD_LEVEL'})"
   ]
  },
  {
   "cell_type": "code",
   "execution_count": null,
   "metadata": {},
   "outputs": [],
   "source": [
    "GHA_drought2050.head()"
   ]
  },
  {
   "cell_type": "code",
   "execution_count": null,
   "metadata": {},
   "outputs": [],
   "source": [
    "GHA_drought2050.to_file(os.path.join(\n",
    "basepath,'data','hazards','drought','GHA_drought2050.gpkg'), layer='drought2050', driver=\"GPKG\")"
   ]
  },
  {
   "cell_type": "markdown",
   "metadata": {},
   "source": [
    "#### Create extra layer for each Hazard level"
   ]
  },
  {
   "cell_type": "code",
   "execution_count": null,
   "metadata": {},
   "outputs": [],
   "source": [
    "GHA_drought2050_1 = GHA_drought2050[(GHA_drought2050.HAZARD_LEVEL == 1)]"
   ]
  },
  {
   "cell_type": "code",
   "execution_count": null,
   "metadata": {},
   "outputs": [],
   "source": [
    "GHA_drought2050_1 = GHA_drought2050_1[['HAZARD_LEVEL','geometry']]\n",
    "GHA_drought2050_1 = GHA_drought2050_1.reset_index()"
   ]
  },
  {
   "cell_type": "code",
   "execution_count": null,
   "metadata": {},
   "outputs": [],
   "source": [
    "GHA_drought2050_1.to_file(os.path.join(\n",
    "basepath,'data','hazards','drought','GHA_drought2050_1.gpkg'), layer='drought2050_1', driver=\"GPKG\")"
   ]
  },
  {
   "cell_type": "code",
   "execution_count": null,
   "metadata": {},
   "outputs": [],
   "source": [
    "GHA_drought2050_2 = GHA_drought2050[(GHA_drought2050.HAZARD_LEVEL == 2)]"
   ]
  },
  {
   "cell_type": "code",
   "execution_count": null,
   "metadata": {},
   "outputs": [],
   "source": [
    "GHA_drought2050_2 = GHA_drought2050_2[['HAZARD_LEVEL','geometry']]\n",
    "GHA_drought2050_2 = GHA_drought2050_2.reset_index()"
   ]
  },
  {
   "cell_type": "code",
   "execution_count": null,
   "metadata": {},
   "outputs": [],
   "source": [
    "GHA_drought2050_2.to_file(os.path.join(\n",
    "basepath,'data','hazards','drought','GHA_drought2050_2.gpkg'), layer='drought2050_2', driver=\"GPKG\")"
   ]
  },
  {
   "cell_type": "code",
   "execution_count": null,
   "metadata": {},
   "outputs": [],
   "source": [
    "GHA_drought2050_3 = GHA_drought2050[(GHA_drought2050.HAZARD_LEVEL == 3)]"
   ]
  },
  {
   "cell_type": "code",
   "execution_count": null,
   "metadata": {},
   "outputs": [],
   "source": [
    "GHA_drought2050_3 = GHA_drought2050_3[['HAZARD_LEVEL','geometry']]\n",
    "GHA_drought2050_3 = GHA_drought2050_3.reset_index()"
   ]
  },
  {
   "cell_type": "code",
   "execution_count": null,
   "metadata": {},
   "outputs": [],
   "source": [
    "GHA_drought2050_3.to_file(os.path.join(\n",
    "basepath,'data','hazards','drought','GHA_drought2050_3.gpkg'), layer='drought2050_3', driver=\"GPKG\")"
   ]
  },
  {
   "cell_type": "markdown",
   "metadata": {},
   "source": [
    "# Landslide Map"
   ]
  },
  {
   "cell_type": "markdown",
   "metadata": {},
   "source": [
    "## Landslide Hazard Data - ID81 GH_landslide hazard_VictorAddabor"
   ]
  },
  {
   "cell_type": "code",
   "execution_count": null,
   "metadata": {},
   "outputs": [],
   "source": [
    "landslide_path = os.path.join(basepath, 'incoming/hazards/Landslides/ID81 GH_landslide hazard_VictorAddabor/landslide.shp')\n",
    "GHA_landslide = geopandas.read_file(landslide_path)"
   ]
  },
  {
   "cell_type": "code",
   "execution_count": null,
   "metadata": {},
   "outputs": [],
   "source": [
    "GHA_landslide = GHA_landslide.set_crs(\"EPSG:32630\")"
   ]
  },
  {
   "cell_type": "code",
   "execution_count": null,
   "metadata": {},
   "outputs": [],
   "source": [
    "GHA_landslide = GHA_landslide[['HEIGHT','SLIDE','geometry']]\n",
    "GHA_landslide = GHA_landslide.reset_index()\n",
    "GHA_landslide = GHA_landslide.rename(columns = {'index':'ID', 'SLIDE':'HAZARD_LEVEL'})"
   ]
  },
  {
   "cell_type": "code",
   "execution_count": null,
   "metadata": {},
   "outputs": [],
   "source": [
    "GHA_landslide.head()"
   ]
  },
  {
   "cell_type": "code",
   "execution_count": null,
   "metadata": {},
   "outputs": [],
   "source": [
    "GHA_landslide.to_file(os.path.join(\n",
    "basepath,'data','hazards','GHA_landslides.gpkg'), layer='landslides', driver=\"GPKG\")"
   ]
  },
  {
   "cell_type": "markdown",
   "metadata": {},
   "source": [
    "#### Create extra layer for each Hazard level"
   ]
  },
  {
   "cell_type": "code",
   "execution_count": null,
   "metadata": {},
   "outputs": [],
   "source": [
    "GHA_landslide_1 = GHA_landslide[(GHA_landslide.HAZARD_LEVEL == 'LOW')]"
   ]
  },
  {
   "cell_type": "code",
   "execution_count": null,
   "metadata": {},
   "outputs": [],
   "source": [
    "GHA_landslide_1 = GHA_landslide_1[['HEIGHT','HAZARD_LEVEL','geometry']]\n",
    "GHA_landslide_1 = GHA_landslide_1.reset_index()"
   ]
  },
  {
   "cell_type": "code",
   "execution_count": null,
   "metadata": {},
   "outputs": [],
   "source": [
    "GHA_landslide_1.to_file(os.path.join(\n",
    "basepath,'data','hazards','landslides','GHA_landslides_1.gpkg'), layer='landslides_1', driver=\"GPKG\")"
   ]
  },
  {
   "cell_type": "code",
   "execution_count": null,
   "metadata": {},
   "outputs": [],
   "source": [
    "GHA_landslide_2 = GHA_landslide[(GHA_landslide.HAZARD_LEVEL == 'MODERATE')]"
   ]
  },
  {
   "cell_type": "code",
   "execution_count": null,
   "metadata": {},
   "outputs": [],
   "source": [
    "GHA_landslide_2 = GHA_landslide_2[['HEIGHT','HAZARD_LEVEL','geometry']]\n",
    "GHA_landslide_2 = GHA_landslide_2.reset_index()"
   ]
  },
  {
   "cell_type": "code",
   "execution_count": null,
   "metadata": {},
   "outputs": [],
   "source": [
    "GHA_landslide_2.to_file(os.path.join(\n",
    "basepath,'data','hazards','landslides','GHA_landslides_2.gpkg'), layer='landslides_2', driver=\"GPKG\")"
   ]
  },
  {
   "cell_type": "code",
   "execution_count": null,
   "metadata": {},
   "outputs": [],
   "source": [
    "GHA_landslide_3 = GHA_landslide[(GHA_landslide.HAZARD_LEVEL == 'VERY HIGH')]"
   ]
  },
  {
   "cell_type": "code",
   "execution_count": null,
   "metadata": {},
   "outputs": [],
   "source": [
    "GHA_landslide_3 = GHA_landslide_3[['HEIGHT','HAZARD_LEVEL','geometry']]\n",
    "GHA_landslide_3 = GHA_landslide_3.reset_index()"
   ]
  },
  {
   "cell_type": "code",
   "execution_count": null,
   "metadata": {},
   "outputs": [],
   "source": [
    "GHA_landslide_3.to_file(os.path.join(\n",
    "basepath,'data','hazards','landslides','GHA_landslides_3.gpkg'), layer='landslides_3', driver=\"GPKG\")"
   ]
  },
  {
   "cell_type": "code",
   "execution_count": null,
   "metadata": {},
   "outputs": [],
   "source": []
  }
 ],
 "metadata": {
  "kernelspec": {
   "display_name": "Python 3",
   "language": "python",
   "name": "python3"
  },
  "language_info": {
   "codemirror_mode": {
    "name": "ipython",
    "version": 3
   },
   "file_extension": ".py",
   "mimetype": "text/x-python",
   "name": "python",
   "nbconvert_exporter": "python",
   "pygments_lexer": "ipython3",
   "version": "3.7.9"
  }
 },
 "nbformat": 4,
 "nbformat_minor": 2
}
