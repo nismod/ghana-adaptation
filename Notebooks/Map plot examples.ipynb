{
 "cells": [
  {
   "cell_type": "code",
   "execution_count": null,
   "metadata": {},
   "outputs": [],
   "source": [
    "import os\n",
    "\n",
    "import cartopy\n",
    "import cartopy.crs as ccrs\n",
    "import geopandas\n",
    "import matplotlib.pyplot as plt\n",
    "import numpy as np\n",
    "import pandas\n",
    "import rasterio\n",
    "\n",
    "from ghaa.config import load_config\n",
    "from ghaa.plot.map import get_axes, plot_basemap, plot_basemap_labels, scale_bar"
   ]
  },
  {
   "cell_type": "code",
   "execution_count": null,
   "metadata": {},
   "outputs": [],
   "source": [
    "base_path = load_config()[\"base_path\"]\n",
    "base_path"
   ]
  },
  {
   "cell_type": "code",
   "execution_count": null,
   "metadata": {},
   "outputs": [],
   "source": [
    "color_codes = {\n",
    "    \"ocean\": \"#bfc0bf\",\n",
    "    \"land\": \"#e4e4e3\",\n",
    "    \"flash flooding moderate scenario\": \"#a2cfe3\",\n",
    "    \"flash flooding high scenario\": \"#0088b7\",\n",
    "    \"landslide\": \"#d5c68e\",\n",
    "    \"drought\": \"\",\n",
    "    \"healthcare\": \"#9f71a4\",\n",
    "    \"exposure\": \"#d53c17\",\n",
    "    \"buildings\": \"#e3e2de\",\n",
    "    \"electricity\": \"#0f6cb2\",\n",
    "    \"water\": \"#87cefa\",\n",
    "    \"transport\": \"#ffd700\"\n",
    "}"
   ]
  },
  {
   "cell_type": "code",
   "execution_count": null,
   "metadata": {},
   "outputs": [],
   "source": [
    "ax = get_axes()\n",
    "plot_basemap(ax, os.path.join(base_path, 'data'), plot_regions=True)\n",
    "plot_basemap_labels(ax, os.path.join(base_path, 'data'), include_regions=True)\n",
    "scale_bar(ax)\n",
    "\n",
    "ax"
   ]
  },
  {
   "cell_type": "markdown",
   "metadata": {},
   "source": [
    "## Raster plot from access CSV"
   ]
  },
  {
   "cell_type": "code",
   "execution_count": null,
   "metadata": {},
   "outputs": [],
   "source": [
    "pop_path = os.path.join(\n",
    "    base_path, 'incoming', 'population', 'Population Density& Demographics', \n",
    "    'ID 23_Population_Density_Demographics - fb AI', 'population_gha_2019-07-01_geotiff', \n",
    "    'population_gha_2019-07-01.tif')"
   ]
  },
  {
   "cell_type": "code",
   "execution_count": null,
   "metadata": {},
   "outputs": [],
   "source": [
    "access_path = os.path.join(\n",
    "    base_path, 'results', 'proximity_results', 'population_gha_2019-07-01_proximity_distance.csv')"
   ]
  },
  {
   "cell_type": "code",
   "execution_count": null,
   "metadata": {},
   "outputs": [],
   "source": [
    "access_tif_path = os.path.join(\n",
    "    base_path, 'results', 'proximity_results', 'population_gha_2019-07-01_proximity_distance.tif')"
   ]
  },
  {
   "cell_type": "code",
   "execution_count": null,
   "metadata": {},
   "outputs": [],
   "source": [
    "with rasterio.open(pop_path) as ds:\n",
    "    pass"
   ]
  },
  {
   "cell_type": "code",
   "execution_count": null,
   "metadata": {},
   "outputs": [],
   "source": [
    "Z = np.full(ds.shape, -999.0)"
   ]
  },
  {
   "cell_type": "code",
   "execution_count": null,
   "metadata": {},
   "outputs": [],
   "source": [
    "access = pandas.read_csv(access_path, usecols=['length_km', 'access', 'x', 'y'])\n",
    "access.head()"
   ]
  },
  {
   "cell_type": "code",
   "execution_count": null,
   "metadata": {},
   "outputs": [],
   "source": [
    "for obs in access.itertuples():\n",
    "    row, col = ds.index(obs.x, obs.y)\n",
    "    Z[row, col] = obs.length_km"
   ]
  },
  {
   "cell_type": "code",
   "execution_count": null,
   "metadata": {},
   "outputs": [],
   "source": [
    "with rasterio.open(\n",
    "        access_tif_path,\n",
    "        'w',\n",
    "        driver='GTiff',\n",
    "        height=Z.shape[0],\n",
    "        width=Z.shape[1],\n",
    "        count=1,\n",
    "        dtype=Z.dtype,\n",
    "        crs=ds.crs,\n",
    "        transform=ds.transform,\n",
    "        nodata=-999.0\n",
    "    ) as new_dataset:\n",
    "    new_dataset.write(Z, 1)"
   ]
  }
 ],
 "metadata": {
  "kernelspec": {
   "display_name": "Python 3",
   "language": "python",
   "name": "python3"
  },
  "language_info": {
   "codemirror_mode": {
    "name": "ipython",
    "version": 3
   },
   "file_extension": ".py",
   "mimetype": "text/x-python",
   "name": "python",
   "nbconvert_exporter": "python",
   "pygments_lexer": "ipython3",
   "version": "3.7.6"
  }
 },
 "nbformat": 4,
 "nbformat_minor": 4
}
