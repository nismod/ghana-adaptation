{
 "cells": [
  {
   "cell_type": "code",
   "execution_count": null,
   "metadata": {},
   "outputs": [],
   "source": [
    "import os\n",
    "\n",
    "import cartopy\n",
    "import cartopy.crs as ccrs\n",
    "import geopandas\n",
    "import matplotlib.pyplot as plt\n",
    "\n",
    "from ghaa.config import load_config\n",
    "from ghaa.plot.map import get_axes, plot_basemap, plot_basemap_labels, scale_bar"
   ]
  },
  {
   "cell_type": "code",
   "execution_count": null,
   "metadata": {},
   "outputs": [],
   "source": [
    "base_path = load_config()[\"base_path\"]\n",
    "base_path"
   ]
  },
  {
   "cell_type": "code",
   "execution_count": null,
   "metadata": {},
   "outputs": [],
   "source": [
    "color_codes = {\n",
    "    \"ocean\": \"#bfc0bf\",\n",
    "    \"land\": \"#e4e4e3\",\n",
    "    \"flash flooding moderate scenario\": \"#a2cfe3\",\n",
    "    \"flash flooding high scenario\": \"#0088b7\",\n",
    "    \"landslide\": \"#d5c68e\",\n",
    "    \"drought\": \"\",\n",
    "    \"healthcare\": \"#9f71a4\",\n",
    "    \"exposure\": \"#d53c17\",\n",
    "    \"buildings\": \"#e3e2de\",\n",
    "    \"electricity\": \"#0f6cb2\",\n",
    "    \"water\": \"#87cefa\",\n",
    "    \"transport\": \"#ffd700\"\n",
    "}"
   ]
  },
  {
   "cell_type": "code",
   "execution_count": null,
   "metadata": {},
   "outputs": [],
   "source": [
    "ax = get_axes()\n",
    "plot_basemap(ax, os.path.join(base_path, 'data'), plot_regions=True)\n",
    "plot_basemap_labels(ax, os.path.join(base_path, 'data'), include_regions=True)\n",
    "scale_bar(ax)\n",
    "\n",
    "ax"
   ]
  }
 ],
 "metadata": {
  "kernelspec": {
   "display_name": "Python 3",
   "language": "python",
   "name": "python3"
  },
  "language_info": {
   "codemirror_mode": {
    "name": "ipython",
    "version": 3
   },
   "file_extension": ".py",
   "mimetype": "text/x-python",
   "name": "python",
   "nbconvert_exporter": "python",
   "pygments_lexer": "ipython3",
   "version": "3.7.6"
  }
 },
 "nbformat": 4,
 "nbformat_minor": 4
}
