{
 "cells": [
  {
   "cell_type": "code",
   "execution_count": null,
   "metadata": {},
   "outputs": [],
   "source": [
    "import os\n",
    "\n",
    "import cartopy\n",
    "import cartopy.crs as ccrs\n",
    "import geopandas\n",
    "import matplotlib.pyplot as plt\n",
    "import numpy as np\n",
    "import pandas\n",
    "import rasterio\n",
    "from rasterio.plot import show as rioshow\n",
    "import xarray as xr\n",
    "\n",
    "from ghaa.config import load_config\n",
    "from ghaa.plot.map import (\n",
    "    get_axes, plot_basemap, plot_basemap_labels, \n",
    "    plot_raster, scale_bar)"
   ]
  },
  {
   "cell_type": "code",
   "execution_count": null,
   "metadata": {},
   "outputs": [],
   "source": [
    "base_path = load_config()[\"base_path\"]\n",
    "base_path"
   ]
  },
  {
   "cell_type": "code",
   "execution_count": null,
   "metadata": {},
   "outputs": [],
   "source": [
    "color_codes = {\n",
    "    \"ocean\": \"#bfc0bf\",\n",
    "    \"land\": \"#e4e4e3\",\n",
    "    \"flash flooding moderate scenario\": \"#a2cfe3\",\n",
    "    \"flash flooding high scenario\": \"#0088b7\",\n",
    "    \"landslide\": \"#d5c68e\",\n",
    "    \"drought\": \"\",\n",
    "    \"healthcare\": \"#9f71a4\",\n",
    "    \"exposure\": \"#d53c17\",\n",
    "    \"buildings\": \"#e3e2de\",\n",
    "    \"electricity\": \"#0f6cb2\",\n",
    "    \"water\": \"#87cefa\",\n",
    "    \"transport\": \"#ffd700\"\n",
    "}"
   ]
  },
  {
   "cell_type": "code",
   "execution_count": null,
   "metadata": {},
   "outputs": [],
   "source": [
    "# ax = get_axes()\n",
    "# plot_basemap(ax, os.path.join(base_path, 'data'), plot_regions=True)\n",
    "# plot_basemap_labels(ax, os.path.join(base_path, 'data'), include_regions=True)\n",
    "# scale_bar(ax)\n",
    "\n",
    "# ax"
   ]
  },
  {
   "cell_type": "markdown",
   "metadata": {},
   "source": [
    "## Raster plot from access CSV"
   ]
  },
  {
   "cell_type": "code",
   "execution_count": null,
   "metadata": {},
   "outputs": [],
   "source": [
    "# GeoTIFF to plot\n",
    "tif_path = os.path.join(\n",
    "    base_path, 'results', 'proximity_results',\n",
    "    'population_gha_2019-07-01_proximity_downsampled.tif')"
   ]
  },
  {
   "cell_type": "code",
   "execution_count": null,
   "metadata": {},
   "outputs": [],
   "source": [
    "ax = get_axes()\n",
    "plot_raster(ax, tif_path)"
   ]
  },
  {
   "cell_type": "code",
   "execution_count": null,
   "metadata": {},
   "outputs": [],
   "source": [
    "# Accra\n",
    "left = -0.5\n",
    "bottom = 5.4\n",
    "right = 0.1\n",
    "top = 5.8\n",
    "extent = (left, right, bottom, top)\n",
    "ax = get_axes(extent=extent)\n",
    "plot_raster(\n",
    "    ax, tif_path, clip_extent=extent,\n",
    "    levels=[0, 0.01, 0.1, 1, 10], \n",
    "    colors=['#fde725', '#20a378', '#287d8e', '#481567', '#000000'],\n",
    ")\n",
    "plot_basemap(ax, os.path.join(base_path, 'data'))"
   ]
  },
  {
   "cell_type": "markdown",
   "metadata": {},
   "source": [
    "## Alternative methods"
   ]
  },
  {
   "cell_type": "code",
   "execution_count": null,
   "metadata": {},
   "outputs": [],
   "source": [
    "import rioxarray"
   ]
  },
  {
   "cell_type": "code",
   "execution_count": null,
   "metadata": {},
   "outputs": [],
   "source": [
    "ds = rioxarray.open_rasterio(tif_path, mask_and_scale=True)"
   ]
  },
  {
   "cell_type": "code",
   "execution_count": null,
   "metadata": {},
   "outputs": [],
   "source": [
    "with rasterio.open(tif_path) as da:\n",
    "    crs_code = da.crs.to_epsg()"
   ]
  },
  {
   "cell_type": "code",
   "execution_count": null,
   "metadata": {},
   "outputs": [],
   "source": [
    "dsc = ds.rio.clip_box(\n",
    "    minx=left,\n",
    "    miny=bottom,\n",
    "    maxx=right,\n",
    "    maxy=top,\n",
    ")\n",
    "dsc"
   ]
  },
  {
   "cell_type": "code",
   "execution_count": null,
   "metadata": {},
   "outputs": [],
   "source": [
    "states = geopandas.read_file(\n",
    "    os.path.join(base_path, 'data', 'admin', 'GHA_admin0.gpkg'))\n",
    "lakes = geopandas.read_file(\n",
    "    os.path.join(base_path, 'data', 'nature', 'Polygons', 'GHA_lakes.gpkg'))"
   ]
  },
  {
   "cell_type": "code",
   "execution_count": null,
   "metadata": {},
   "outputs": [],
   "source": [
    "# This is the map projection we want to plot *onto*\n",
    "# map_proj = ccrs.LambertConformal(central_longitude=-0, central_latitude=5)\n",
    "map_proj = ccrs.epsg(3857)\n",
    "ll_proj = ccrs.PlateCarree()\n",
    "\n",
    "fig, ax = plt.subplots(\n",
    "    figsize=(10, 10),\n",
    "    dpi=150,\n",
    "    subplot_kw={\n",
    "        'projection': map_proj, # map's projection\n",
    "    }\n",
    ")\n",
    "\n",
    "ax.patch.set_facecolor('#bfc0bf')\n",
    "\n",
    "ax.set_extent([left, right, bottom, top], crs=ll_proj)\n",
    "# ax.set_extent((-3.82, 1.82, 4.37, 11.51), crs=ll_proj)\n",
    "\n",
    "\n",
    "dsc.plot(\n",
    "    ax=ax,\n",
    "    levels=[0, 0.01, 0.1, 1, 10], \n",
    "    colors=['#fde725', '#20a378', '#287d8e', '#481567', '#000000'],\n",
    "    transform=ll_proj,  # the data's projection\n",
    "#     cmap='viridis_r',\n",
    ")\n",
    "\n",
    "\n",
    "states.to_crs(map_proj.epsg_code).plot(ax=ax, facecolor='#00000000', edgecolor='#ffffff')\n",
    "# lakes.to_crs(map_proj.epsg_code).plot(ax=ax, edgecolor='none', facecolor='#87cefa', zorder=1)\n"
   ]
  }
 ],
 "metadata": {
  "kernelspec": {
   "display_name": "Python 3",
   "language": "python",
   "name": "python3"
  },
  "language_info": {
   "codemirror_mode": {
    "name": "ipython",
    "version": 3
   },
   "file_extension": ".py",
   "mimetype": "text/x-python",
   "name": "python",
   "nbconvert_exporter": "python",
   "pygments_lexer": "ipython3",
   "version": "3.7.6"
  }
 },
 "nbformat": 4,
 "nbformat_minor": 4
}
