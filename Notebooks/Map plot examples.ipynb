{
 "cells": [
  {
   "cell_type": "code",
   "execution_count": null,
   "metadata": {},
   "outputs": [],
   "source": [
    "import os\n",
    "\n",
    "import cartopy\n",
    "import cartopy.crs as ccrs\n",
    "import contextily as cx\n",
    "import geopandas\n",
    "import matplotlib.pyplot as plt\n",
    "import numpy as np\n",
    "import pandas\n",
    "import rasterio\n",
    "from rasterio.plot import show as rioshow\n",
    "import xarray as xr\n",
    "\n",
    "from ghaa.config import load_config\n",
    "from ghaa.plot.map import (\n",
    "    get_axes, get_axes_for_raster, plot_basemap, plot_basemap_labels, \n",
    "    plot_raster, scale_bar)"
   ]
  },
  {
   "cell_type": "code",
   "execution_count": null,
   "metadata": {},
   "outputs": [],
   "source": [
    "base_path = load_config()[\"base_path\"]\n",
    "base_path"
   ]
  },
  {
   "cell_type": "code",
   "execution_count": null,
   "metadata": {},
   "outputs": [],
   "source": [
    "color_codes = {\n",
    "    \"ocean\": \"#bfc0bf\",\n",
    "    \"land\": \"#e4e4e3\",\n",
    "    \"flash flooding moderate scenario\": \"#a2cfe3\",\n",
    "    \"flash flooding high scenario\": \"#0088b7\",\n",
    "    \"landslide\": \"#d5c68e\",\n",
    "    \"drought\": \"\",\n",
    "    \"healthcare\": \"#9f71a4\",\n",
    "    \"exposure\": \"#d53c17\",\n",
    "    \"buildings\": \"#e3e2de\",\n",
    "    \"electricity\": \"#0f6cb2\",\n",
    "    \"water\": \"#87cefa\",\n",
    "    \"transport\": \"#ffd700\"\n",
    "}"
   ]
  },
  {
   "cell_type": "code",
   "execution_count": null,
   "metadata": {},
   "outputs": [],
   "source": [
    "ax = get_axes()\n",
    "plot_basemap(ax, os.path.join(base_path, 'data'), plot_regions=True)\n",
    "plot_basemap_labels(ax, os.path.join(base_path, 'data'), include_regions=True)\n",
    "scale_bar(ax)\n",
    "\n",
    "ax"
   ]
  },
  {
   "cell_type": "markdown",
   "metadata": {},
   "source": [
    "## Raster plot from access CSV"
   ]
  },
  {
   "cell_type": "code",
   "execution_count": null,
   "metadata": {},
   "outputs": [],
   "source": [
    "# GeoTIFF to plot\n",
    "tif_path = os.path.join(\n",
    "    base_path, 'results', 'proximity_results',\n",
    "    'population_gha_2019-07-01_proximity_distance.tif')\n",
    "ax = get_axes_for_raster()\n",
    "plot_raster(ax, tif_path, base_path)"
   ]
  },
  {
   "cell_type": "code",
   "execution_count": null,
   "metadata": {},
   "outputs": [],
   "source": [
    "# Accra\n",
    "left = -0.5\n",
    "bottom = 5.4\n",
    "right = 0.1\n",
    "top = 5.8\n",
    "extent = (left, bottom, right, top)\n",
    "ax = get_axes_for_raster()\n",
    "plot_raster(ax, tif_path, base_path, extent=extent)"
   ]
  }
 ],
 "metadata": {
  "kernelspec": {
   "display_name": "Python 3",
   "language": "python",
   "name": "python3"
  },
  "language_info": {
   "codemirror_mode": {
    "name": "ipython",
    "version": 3
   },
   "file_extension": ".py",
   "mimetype": "text/x-python",
   "name": "python",
   "nbconvert_exporter": "python",
   "pygments_lexer": "ipython3",
   "version": "3.8.6"
  }
 },
 "nbformat": 4,
 "nbformat_minor": 4
}
