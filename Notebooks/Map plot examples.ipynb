{
 "cells": [
  {
   "cell_type": "code",
   "execution_count": null,
   "metadata": {},
   "outputs": [],
   "source": [
    "import os\n",
    "\n",
    "import cartopy\n",
    "import cartopy.crs as ccrs\n",
    "import contextily as cx\n",
    "import geopandas\n",
    "import matplotlib.pyplot as plt\n",
    "import numpy as np\n",
    "import pandas\n",
    "import rasterio\n",
    "from rasterio.plot import show as rioshow\n",
    "import xarray as xr\n",
    "\n",
    "from ghaa.config import load_config\n",
    "from ghaa.plot.map import get_axes, plot_basemap, plot_basemap_labels, scale_bar"
   ]
  },
  {
   "cell_type": "code",
   "execution_count": null,
   "metadata": {},
   "outputs": [],
   "source": [
    "base_path = load_config()[\"base_path\"]\n",
    "base_path"
   ]
  },
  {
   "cell_type": "code",
   "execution_count": null,
   "metadata": {},
   "outputs": [],
   "source": [
    "color_codes = {\n",
    "    \"ocean\": \"#bfc0bf\",\n",
    "    \"land\": \"#e4e4e3\",\n",
    "    \"flash flooding moderate scenario\": \"#a2cfe3\",\n",
    "    \"flash flooding high scenario\": \"#0088b7\",\n",
    "    \"landslide\": \"#d5c68e\",\n",
    "    \"drought\": \"\",\n",
    "    \"healthcare\": \"#9f71a4\",\n",
    "    \"exposure\": \"#d53c17\",\n",
    "    \"buildings\": \"#e3e2de\",\n",
    "    \"electricity\": \"#0f6cb2\",\n",
    "    \"water\": \"#87cefa\",\n",
    "    \"transport\": \"#ffd700\"\n",
    "}"
   ]
  },
  {
   "cell_type": "code",
   "execution_count": null,
   "metadata": {},
   "outputs": [],
   "source": [
    "ax = get_axes()\n",
    "plot_basemap(ax, os.path.join(base_path, 'data'), plot_regions=True)\n",
    "plot_basemap_labels(ax, os.path.join(base_path, 'data'), include_regions=True)\n",
    "scale_bar(ax)\n",
    "\n",
    "ax"
   ]
  },
  {
   "cell_type": "markdown",
   "metadata": {},
   "source": [
    "## Raster plot from access CSV"
   ]
  },
  {
   "cell_type": "code",
   "execution_count": null,
   "metadata": {},
   "outputs": [],
   "source": [
    "pop_path = os.path.join(\n",
    "    base_path, 'incoming', 'population', 'Population Density& Demographics', \n",
    "    'ID 23_Population_Density_Demographics - fb AI', 'population_gha_2019-07-01_geotiff', \n",
    "    'population_gha_2019-07-01.tif')"
   ]
  },
  {
   "cell_type": "code",
   "execution_count": null,
   "metadata": {},
   "outputs": [],
   "source": [
    "access_path = os.path.join(\n",
    "    base_path, 'results', 'proximity_results', 'population_gha_2019-07-01_proximity.csv')"
   ]
  },
  {
   "cell_type": "code",
   "execution_count": null,
   "metadata": {},
   "outputs": [],
   "source": [
    "access_tif_path = os.path.join(\n",
    "    base_path, 'results', 'proximity_results', 'population_gha_2019-07-01_proximity_distance.tif')"
   ]
  },
  {
   "cell_type": "code",
   "execution_count": null,
   "metadata": {},
   "outputs": [],
   "source": [
    "with rasterio.open(pop_path) as ds:\n",
    "    pass"
   ]
  },
  {
   "cell_type": "code",
   "execution_count": null,
   "metadata": {},
   "outputs": [],
   "source": [
    "Z = np.full(ds.shape, -999.0)"
   ]
  },
  {
   "cell_type": "code",
   "execution_count": null,
   "metadata": {},
   "outputs": [],
   "source": [
    "access = pandas.read_csv(access_path, usecols=['population', 'time_hr', 'access', 'x', 'y'])\n",
    "access.head()"
   ]
  },
  {
   "cell_type": "code",
   "execution_count": null,
   "metadata": {},
   "outputs": [],
   "source": [
    "for obs in access.itertuples():\n",
    "    row, col = ds.index(obs.x, obs.y)\n",
    "    Z[row, col] = obs.time_hr"
   ]
  },
  {
   "cell_type": "code",
   "execution_count": null,
   "metadata": {},
   "outputs": [],
   "source": [
    "with rasterio.open(\n",
    "        access_tif_path,\n",
    "        'w',\n",
    "        driver='GTiff',\n",
    "        height=Z.shape[0],\n",
    "        width=Z.shape[1],\n",
    "        count=1,\n",
    "        dtype=Z.dtype,\n",
    "        crs=ds.crs,\n",
    "        transform=ds.transform,\n",
    "        nodata=-999.0\n",
    "    ) as new_dataset:\n",
    "    new_dataset.write(Z, 1)"
   ]
  },
  {
   "cell_type": "code",
   "execution_count": null,
   "metadata": {},
   "outputs": [],
   "source": [
    "ds = rasterio.open(access_tif_path)"
   ]
  },
  {
   "cell_type": "code",
   "execution_count": null,
   "metadata": {},
   "outputs": [],
   "source": [
    "states = geopandas.read_file(\n",
    "    os.path.join(\n",
    "        base_path, 'data', 'admin', 'GHA_admin0.gpkg')\n",
    "    ).to_crs(4326)"
   ]
  },
  {
   "cell_type": "code",
   "execution_count": null,
   "metadata": {},
   "outputs": [],
   "source": [
    "fig, ax = plt.subplots(figsize=(12, 10))\n",
    "rioshow((ds, 1), cmap='viridis', ax=ax)\n",
    "states.plot(ax=ax, facecolor='#00000000', edgecolor='#dddddd')\n",
    "plt.axis('off')"
   ]
  },
  {
   "cell_type": "code",
   "execution_count": null,
   "metadata": {},
   "outputs": [],
   "source": [
    "left = -0.5\n",
    "bottom = 5.4\n",
    "right = 0.1\n",
    "top = 5.8\n",
    "from rasterio.windows import from_bounds\n",
    "with rasterio.open(access_tif_path) as src:\n",
    "    window = from_bounds(left, bottom, right, top, src.transform)\n",
    "    rst = src.read(1, window=window)"
   ]
  },
  {
   "cell_type": "code",
   "execution_count": null,
   "metadata": {},
   "outputs": [],
   "source": [
    "import shapely.geometry\n",
    "import matplotlib.patheffects as path_effects\n",
    "\n",
    "import matplotlib.cm\n",
    "import matplotlib.colors\n",
    "from mpl_toolkits.axes_grid1 import make_axes_locatable"
   ]
  },
  {
   "cell_type": "code",
   "execution_count": null,
   "metadata": {},
   "outputs": [],
   "source": [
    "src.crs"
   ]
  },
  {
   "cell_type": "code",
   "execution_count": null,
   "metadata": {},
   "outputs": [],
   "source": [
    "states.to_crs(src.crs)"
   ]
  },
  {
   "cell_type": "code",
   "execution_count": null,
   "metadata": {},
   "outputs": [],
   "source": [
    "fig, ax = plt.subplots(figsize=(12, 10))\n",
    "cmap = 'viridis'\n",
    "rioshow(rst, cmap=cmap, ax=ax, transform=src.window_transform(window))\n",
    "\n",
    "\n",
    "fig = ax.figure\n",
    "size=\"3%\"\n",
    "pad=0.09\n",
    "divider = make_axes_locatable(ax)\n",
    "cax = divider.append_axes(\"right\", size=size, pad=pad)\n",
    "norm = matplotlib.colors.Normalize(vmin=rst.min(), vmax=rst.max())\n",
    "mappable = matplotlib.cm.ScalarMappable(norm=norm, cmap=cmap)\n",
    "fig.colorbar(mappable, cax=cax)\n",
    "\n",
    "bbpoly = shapely.geometry.box(left, bottom, right, top)\n",
    "clipped_states = geopandas.clip(states, bbpoly)\n",
    "clipped_states.plot(ax=ax, facecolor='#00000000', edgecolor='#dddddd')\n",
    "\n",
    "ax.axis('off')\n",
    "ax.text(\n",
    "    -0.25, 5.6, 'Accra', color='white', size=16,\n",
    "    path_effects=[\n",
    "        path_effects.Stroke(linewidth=3, foreground='black'),\n",
    "        path_effects.Normal()\n",
    "    ]\n",
    ")\n",
    "\n",
    "\n",
    "\n",
    "ax"
   ]
  },
  {
   "cell_type": "code",
   "execution_count": null,
   "metadata": {},
   "outputs": [],
   "source": [
    "# GeoTIFF to plot\n",
    "tif_path = os.path.join(\n",
    "    base_path, 'results', 'proximity_results',\n",
    "    'population_gha_2019-07-01_proximity_distance.tif')\n",
    "\n",
    "plot_raster(\n",
    "    tif_path, base_path\n",
    ")"
   ]
  },
  {
   "cell_type": "code",
   "execution_count": null,
   "metadata": {},
   "outputs": [],
   "source": [
    "# Accra\n",
    "left = -0.5\n",
    "bottom = 5.4\n",
    "right = 0.1\n",
    "top = 5.8\n",
    "extent = (left, bottom, right, top)"
   ]
  }
 ],
 "metadata": {
  "kernelspec": {
   "display_name": "Python 3",
   "language": "python",
   "name": "python3"
  },
  "language_info": {
   "codemirror_mode": {
    "name": "ipython",
    "version": 3
   },
   "file_extension": ".py",
   "mimetype": "text/x-python",
   "name": "python",
   "nbconvert_exporter": "python",
   "pygments_lexer": "ipython3",
   "version": "3.8.6"
  }
 },
 "nbformat": 4,
 "nbformat_minor": 4
}
