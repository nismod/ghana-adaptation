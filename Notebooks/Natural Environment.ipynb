{
 "cells": [
  {
   "cell_type": "code",
   "execution_count": null,
   "metadata": {},
   "outputs": [],
   "source": [
    "%matplotlib inline\n",
    "import pandas as pd\n",
    "import geopandas as gpd\n",
    "import os"
   ]
  },
  {
   "cell_type": "code",
   "execution_count": null,
   "metadata": {},
   "outputs": [],
   "source": [
    "os.getcwd()"
   ]
  },
  {
   "cell_type": "code",
   "execution_count": null,
   "metadata": {},
   "outputs": [],
   "source": [
    "basepath = 'C:\\\\Users\\\\Sarah\\\\Nexus365\\\\Tom Russell - ghana-oxford-infrastructure-adaptation-2020'"
   ]
  },
  {
   "cell_type": "code",
   "execution_count": null,
   "metadata": {},
   "outputs": [],
   "source": [
    "ghana = gpd.read_file(os.path.join(basepath, 'incoming\\\\Ghana.shp'))\n",
    "ghana = ghana.to_crs(\"EPSG:32630\")"
   ]
  },
  {
   "cell_type": "markdown",
   "metadata": {},
   "source": [
    "# Protected Areas"
   ]
  },
  {
   "cell_type": "code",
   "execution_count": null,
   "metadata": {},
   "outputs": [],
   "source": [
    "ecopath = os.path.join(basepath,'incoming/Ecosystems')"
   ]
  },
  {
   "cell_type": "markdown",
   "metadata": {},
   "source": [
    "## Protected Areas - Point Dataframes"
   ]
  },
  {
   "cell_type": "code",
   "execution_count": null,
   "metadata": {},
   "outputs": [],
   "source": [
    "protect_A_pnt_path = os.path.join(ecopath, 'ID65-ProtectedAreas_protectedplanet/WDPA_WDOECM_GHA_shp0/WDPA_WDOECM_GHA_shp-points.shp')\n",
    "GHA_protect_A_pnt = gpd.read_file(protect_A_pnt_path)\n",
    "\n",
    "protect_B_pnt_path = os.path.join(ecopath, 'ID65-ProtectedAreas_protectedplanet/WDPA_WDOECM_GHA_shp1/WDPA_WDOECM_GHA_shp-points.shp')\n",
    "GHA_protect_B_pnt = gpd.read_file(protect_B_pnt_path)\n",
    "\n",
    "protect_C_pnt_path = os.path.join(ecopath, 'ID65-ProtectedAreas_protectedplanet/WDPA_WDOECM_GHA_shp2/WDPA_WDOECM_GHA_shp-points.shp')\n",
    "GHA_protect_C_pnt = gpd.read_file(protect_C_pnt_path)"
   ]
  },
  {
   "cell_type": "code",
   "execution_count": null,
   "metadata": {},
   "outputs": [],
   "source": [
    "GHA_protect_pnt = pd.concat([GHA_protect_A_pnt, GHA_protect_B_pnt, GHA_protect_C_pnt], sort=False)"
   ]
  },
  {
   "cell_type": "code",
   "execution_count": null,
   "metadata": {},
   "outputs": [],
   "source": [
    "GHA_protect_pnt = GHA_protect_pnt.to_crs(\"EPSG:32630\")"
   ]
  },
  {
   "cell_type": "code",
   "execution_count": null,
   "metadata": {},
   "outputs": [],
   "source": [
    "GHA_protect_pnt = GHA_protect_pnt[['NAME', 'ORIG_NAME', 'DESIG', 'DESIG_ENG', 'DESIG_TYPE','IUCN_CAT', 'MARINE', 'REP_M_AREA', 'REP_AREA', 'NO_TAKE', 'NO_TK_AREA', 'STATUS','STATUS_YR', 'GOV_TYPE', 'OWN_TYPE', 'MANG_AUTH', 'MANG_PLAN','geometry']]\n",
    "GHA_protect_pnt = GHA_protect_pnt.reset_index()\n",
    "GHA_protect_pnt = GHA_protect_pnt.rename(columns = {'index':'ID','DESIG':'DESIGNATION', 'MARINE':'TER0_MIX1_MAR2', 'REP_M_AREA':'MARINE_AREA_km2', 'REP_AREA':'AREA_km2'})"
   ]
  },
  {
   "cell_type": "code",
   "execution_count": null,
   "metadata": {},
   "outputs": [],
   "source": [
    "GHA_protect_pnt"
   ]
  },
  {
   "cell_type": "code",
   "execution_count": null,
   "metadata": {},
   "outputs": [],
   "source": [
    "GHA_protect_pnt.to_file(os.path.join(\n",
    "basepath,'data','nature','GHA_protectedareas_pnt.gpkg'), layer='protected_areas_point', driver=\"GPKG\")"
   ]
  },
  {
   "cell_type": "markdown",
   "metadata": {},
   "source": [
    "## Protected Areas - Polygon Dataframe"
   ]
  },
  {
   "cell_type": "code",
   "execution_count": null,
   "metadata": {},
   "outputs": [],
   "source": [
    "protect_A_poly_path = os.path.join(ecopath, 'ID65-ProtectedAreas_protectedplanet/WDPA_WDOECM_GHA_shp0/WDPA_WDOECM_GHA_shp-polygons.shp')\n",
    "GHA_protect_A_poly = gpd.read_file(protect_A_poly_path)\n",
    "\n",
    "protect_B_poly_path = os.path.join(ecopath, 'ID65-ProtectedAreas_protectedplanet/WDPA_WDOECM_GHA_shp1/WDPA_WDOECM_GHA_shp-polygons.shp')\n",
    "GHA_protect_B_poly = gpd.read_file(protect_B_poly_path)\n",
    "\n",
    "protect_C_poly_path = os.path.join(ecopath, 'ID65-ProtectedAreas_protectedplanet/WDPA_WDOECM_GHA_shp2/WDPA_WDOECM_GHA_shp-polygons.shp')\n",
    "GHA_protect_C_poly = gpd.read_file(protect_C_poly_path)"
   ]
  },
  {
   "cell_type": "code",
   "execution_count": null,
   "metadata": {},
   "outputs": [],
   "source": [
    "GHA_protect_poly = pd.concat([GHA_protect_A_poly, GHA_protect_B_poly, GHA_protect_C_poly], sort=False)"
   ]
  },
  {
   "cell_type": "code",
   "execution_count": null,
   "metadata": {},
   "outputs": [],
   "source": [
    "GHA_protect_poly = GHA_protect_poly.to_crs(\"EPSG:32630\")"
   ]
  },
  {
   "cell_type": "code",
   "execution_count": null,
   "metadata": {},
   "outputs": [],
   "source": [
    "GHA_protect_poly = GHA_protect_poly[['NAME', 'ORIG_NAME', 'DESIG', 'DESIG_ENG', 'DESIG_TYPE','IUCN_CAT', 'MARINE', 'REP_M_AREA', 'REP_AREA', 'NO_TAKE', 'NO_TK_AREA', 'STATUS','STATUS_YR', 'GOV_TYPE', 'OWN_TYPE', 'MANG_AUTH', 'MANG_PLAN','geometry']]\n",
    "GHA_protect_poly = GHA_protect_poly.reset_index()\n",
    "GHA_protect_poly = GHA_protect_poly.rename(columns = {'index':'ID','DESIG':'DESIGNATION', 'MARINE':'TER0_MIX1_MAR2', 'REP_M_AREA':'MARINE_AREA_km2', 'REP_AREA':'AREA_km2'})"
   ]
  },
  {
   "cell_type": "code",
   "execution_count": null,
   "metadata": {},
   "outputs": [],
   "source": [
    "GHA_protect_poly.head(2)"
   ]
  },
  {
   "cell_type": "code",
   "execution_count": null,
   "metadata": {},
   "outputs": [],
   "source": [
    "GHA_protect_poly.to_file(os.path.join(\n",
    "basepath,'data','nature','GHA_protectedareas_poly.gpkg'), layer='protected_areas_poly', driver=\"GPKG\")"
   ]
  },
  {
   "cell_type": "markdown",
   "metadata": {},
   "source": [
    "hazardpath = os.path.join(basepath,'data/hazard_eric')"
   ]
  },
  {
   "cell_type": "markdown",
   "metadata": {},
   "source": [
    "drought2050_path = os.path.join(hazardpath,'hazard_drought_2050.shp')\n",
    "drought2050 = gpd.read_file(drought2050_path)"
   ]
  },
  {
   "cell_type": "markdown",
   "metadata": {},
   "source": [
    "protect_drought2050 = gpd.overlay(drought2050, GHA_protect_poly, how='intersection')"
   ]
  },
  {
   "cell_type": "markdown",
   "metadata": {},
   "source": [
    "protect_drought2050.head()"
   ]
  },
  {
   "cell_type": "markdown",
   "metadata": {},
   "source": [
    "protect_drought2050.to_file(os.path.join(\n",
    "basepath,'results','exposure','protected_poly_drought2050.gpkg'))"
   ]
  },
  {
   "cell_type": "markdown",
   "metadata": {},
   "source": [
    "### Extract forests"
   ]
  },
  {
   "cell_type": "code",
   "execution_count": null,
   "metadata": {},
   "outputs": [],
   "source": [
    "GHA_forests = GHA_protect_A_poly[(GHA_protect_A_poly.DESIG_ENG == \"Forest Reserve\")]"
   ]
  },
  {
   "cell_type": "code",
   "execution_count": null,
   "metadata": {},
   "outputs": [],
   "source": [
    "GHA_forests = GHA_forests.reset_index()"
   ]
  },
  {
   "cell_type": "code",
   "execution_count": null,
   "metadata": {},
   "outputs": [],
   "source": [
    "GHA_forests.head()"
   ]
  },
  {
   "cell_type": "code",
   "execution_count": null,
   "metadata": {},
   "outputs": [],
   "source": [
    "GHA_forests = GHA_forests.rename(columns = {'index':'ID'})"
   ]
  },
  {
   "cell_type": "code",
   "execution_count": null,
   "metadata": {},
   "outputs": [],
   "source": [
    "GHA_forests.to_file(os.path.join(\n",
    "basepath,'data','nature','GHA_forests.gpkg'), layer='forests', driver=\"GPKG\")"
   ]
  },
  {
   "cell_type": "markdown",
   "metadata": {},
   "source": [
    "### Extract Ramsar sites"
   ]
  },
  {
   "cell_type": "code",
   "execution_count": null,
   "metadata": {},
   "outputs": [],
   "source": [
    "GHA_ramsar = GHA_protect_A_poly[(GHA_protect_A_poly.DESIG_ENG == \"Ramsar Site, Wetland of International Importance\")]"
   ]
  },
  {
   "cell_type": "code",
   "execution_count": null,
   "metadata": {},
   "outputs": [],
   "source": [
    "GHA_ramsar.to_file(os.path.join(\n",
    "basepath,'data','nature','GHA_ramsar.gpkg'), layer='ramsar_soites', driver=\"GPKG\")"
   ]
  },
  {
   "cell_type": "markdown",
   "metadata": {},
   "source": [
    "# Waterbodies"
   ]
  },
  {
   "cell_type": "code",
   "execution_count": null,
   "metadata": {},
   "outputs": [],
   "source": [
    "waterpath = os.path.join(basepath,'incoming/water')"
   ]
  },
  {
   "cell_type": "markdown",
   "metadata": {},
   "source": [
    "## Lakes"
   ]
  },
  {
   "cell_type": "code",
   "execution_count": null,
   "metadata": {},
   "outputs": [],
   "source": [
    "lakespath = os.path.join(waterpath,'Lakes/ID 9 Lakes - World Bank Data Catalog/Lakes.shp')\n",
    "GHA_lakes = gpd.read_file(lakespath)"
   ]
  },
  {
   "cell_type": "code",
   "execution_count": null,
   "metadata": {},
   "outputs": [],
   "source": [
    "GHA_lakes = GHA_lakes.to_crs(\"EPSG:32630\")"
   ]
  },
  {
   "cell_type": "code",
   "execution_count": null,
   "metadata": {},
   "outputs": [],
   "source": [
    "GHA_lakes = gpd.overlay(ghana, GHA_lakes, how='intersection')"
   ]
  },
  {
   "cell_type": "code",
   "execution_count": null,
   "metadata": {},
   "outputs": [],
   "source": [
    "GHA_lakes = GHA_lakes[['admin0Name','geometry']]\n",
    "GHA_lakes = GHA_lakes.reset_index()\n",
    "GHA_lakes = GHA_lakes.rename(columns = {'index':'ID','admin0Name':'NAME'})"
   ]
  },
  {
   "cell_type": "code",
   "execution_count": null,
   "metadata": {},
   "outputs": [],
   "source": [
    "GHA_lakes.head()"
   ]
  },
  {
   "cell_type": "code",
   "execution_count": null,
   "metadata": {},
   "outputs": [],
   "source": [
    "GHA_lakes.to_file(os.path.join(\n",
    "basepath,'data','nature','GHA_lakes.gpkg'), layer='lakes', driver=\"GPKG\")"
   ]
  },
  {
   "cell_type": "markdown",
   "metadata": {},
   "source": [
    "## Rivers"
   ]
  },
  {
   "cell_type": "code",
   "execution_count": null,
   "metadata": {},
   "outputs": [],
   "source": [
    "riverpath = os.path.join(waterpath,'Rivers/ID41_rivernetwork_rivers_ECOWAS/rivernetwork_rivers.shp')\n",
    "GHA_river = gpd.read_file(riverpath)\n"
   ]
  },
  {
   "cell_type": "code",
   "execution_count": null,
   "metadata": {},
   "outputs": [],
   "source": [
    "GHA_river = GHA_river.to_crs(\"EPSG:32630\")"
   ]
  },
  {
   "cell_type": "code",
   "execution_count": null,
   "metadata": {},
   "outputs": [],
   "source": [
    "GHA_river1 = GHA_river[(GHA_river.country_1 == \"GHA\")]\n",
    "GHA_river2 = GHA_river[(GHA_river.country_2 == \"GHA\")]\n",
    "\n",
    "GHA_river = pd.concat([GHA_river1, GHA_river2], sort=False)"
   ]
  },
  {
   "cell_type": "code",
   "execution_count": null,
   "metadata": {},
   "outputs": [],
   "source": [
    "GHA_river = GHA_river[['river', 'nb', 'area_km2', 'length_km', 'elev_us_m', 'elev_ds_m', 'elev_diff','slope', \n",
    "                       'qyear_m3_s', 'qjan_m3_s', 'qfeb_m3_s', 'qmar_m3_s', 'qapr_m3_s', 'qmay_m3_s', 'qjun_m3_s', 'qjul_m3_s',\n",
    "                       'qaug_m3_s', 'qsep_m3_s', 'qoct_m3_s', 'qnov_m3_s', 'qdec_m3_s',\n",
    "                       'q_2035_p25', 'q_2035_p50', 'q_2035_p75', 'q_2055_p25', 'q_2055_p50', 'q_2055_p75','plant_size','geometry']]\n",
    "GHA_river = GHA_river.reset_index()\n",
    "GHA_river = GHA_river.rename(columns = {'index':'ID', 'river':'NAME', 'area_km2':'AREA_km2','length_km':'LENGTH_km',\n",
    "                                       'q_2035_p25':'q_2035_p25_%', 'q_2035_p50':'q_2035_p50_%', 'q_2035_p75':'q_2035_p75_%',\n",
    "                                        'q_2055_p25':'q_2055_p25_%', 'q_2055_p50':'q_2055_p50_%', 'q_2055_p75':'q_2055_p75_%'})"
   ]
  },
  {
   "cell_type": "code",
   "execution_count": null,
   "metadata": {},
   "outputs": [],
   "source": [
    "GHA_river.head()"
   ]
  },
  {
   "cell_type": "code",
   "execution_count": null,
   "metadata": {},
   "outputs": [],
   "source": [
    "GHA_river.to_file(os.path.join(\n",
    "basepath,'data','nature','GHA_river.gpkg'), layer='rivers', driver=\"GPKG\")"
   ]
  },
  {
   "cell_type": "markdown",
   "metadata": {},
   "source": [
    "## Subcatchment Areas - ID42_subcatchment_areas"
   ]
  },
  {
   "cell_type": "code",
   "execution_count": null,
   "metadata": {},
   "outputs": [],
   "source": [
    "subcatchpath = os.path.join(waterpath,'Rivers/ID42_subcatchment_areas/Subcatchment_Ghana_Intersect.shp')\n",
    "GHA_subcatch = gpd.read_file(subcatchpath)"
   ]
  },
  {
   "cell_type": "code",
   "execution_count": null,
   "metadata": {},
   "outputs": [],
   "source": [
    "GHA_subcatch = GHA_subcatch.to_crs(\"EPSG:32630\")"
   ]
  },
  {
   "cell_type": "code",
   "execution_count": null,
   "metadata": {},
   "outputs": [],
   "source": [
    "GHA_subcatch = GHA_subcatch.reset_index()\n",
    "GHA_subcatch = GHA_subcatch.rename(columns = {'index':'ID','nb':'NAME','area':'AREA','precip_y':'PRECIP_mm','eta_y':'EVAP_mm','runoff_y':'RUNOFF_mm','temp_y':'TEMP_C°'})"
   ]
  },
  {
   "cell_type": "code",
   "execution_count": null,
   "metadata": {},
   "outputs": [],
   "source": [
    "GHA_subcatch.head(0)"
   ]
  },
  {
   "cell_type": "code",
   "execution_count": null,
   "metadata": {},
   "outputs": [],
   "source": [
    "GHA_subcatch.to_file(os.path.join(\n",
    "basepath,'data','nature','GHA_subcatchment.gpkg'), layer='subcatchment_areas', driver=\"GPKG\")"
   ]
  },
  {
   "cell_type": "code",
   "execution_count": null,
   "metadata": {},
   "outputs": [],
   "source": [
    "distr216path = os.path.join(basepath,'incoming/admin-boundaries/ID 39 Districts 216 - Ghana Open Data Initiative_Ghana Statistical Service/Districts/Map_of_Districts_216.shp')\n",
    "GHA_distr216 = gpd.read_file(distr216path)"
   ]
  },
  {
   "cell_type": "code",
   "execution_count": null,
   "metadata": {},
   "outputs": [],
   "source": [
    "GHA_distr216 = GHA_distr216.rename(columns = {'ID':'ID_1'})"
   ]
  },
  {
   "cell_type": "code",
   "execution_count": null,
   "metadata": {},
   "outputs": [],
   "source": [
    "GHA_distr216.head()"
   ]
  },
  {
   "cell_type": "code",
   "execution_count": null,
   "metadata": {},
   "outputs": [],
   "source": [
    "GHA_subcatch_districts = gpd.overlay(GHA_distr216, GHA_subcatch, how='intersection')"
   ]
  },
  {
   "cell_type": "code",
   "execution_count": null,
   "metadata": {},
   "outputs": [],
   "source": [
    "GHA_subcatch_districts.head()"
   ]
  },
  {
   "cell_type": "code",
   "execution_count": null,
   "metadata": {},
   "outputs": [],
   "source": [
    "GHA_subcatch_districts.to_file(os.path.join(\n",
    "basepath,'data','nature','GHA_subcatch_districts216.gpkg'), layer='subcatch_distr_areas', driver=\"GPKG\")"
   ]
  },
  {
   "cell_type": "markdown",
   "metadata": {},
   "source": [
    "### Processing intersection districts & subcatch"
   ]
  },
  {
   "cell_type": "code",
   "execution_count": null,
   "metadata": {},
   "outputs": [],
   "source": [
    "interpath = os.path.join('C:\\\\Users\\\\Sarah\\\\Desktop\\\\Mappe111.csv')\n",
    "inter = pd.read_csv(interpath)"
   ]
  },
  {
   "cell_type": "code",
   "execution_count": null,
   "metadata": {},
   "outputs": [],
   "source": [
    "inter.head()"
   ]
  },
  {
   "cell_type": "code",
   "execution_count": null,
   "metadata": {},
   "outputs": [],
   "source": [
    "list =['AREA share','AREA_share* reduction']\n",
    "\n",
    "inter = inter.groupby([\n",
    "    'ID_1', 'NAME_1'\n",
    "    ])[\n",
    "    list\n",
    "    ].sum()"
   ]
  },
  {
   "cell_type": "code",
   "execution_count": null,
   "metadata": {},
   "outputs": [],
   "source": [
    "inter"
   ]
  },
  {
   "cell_type": "code",
   "execution_count": null,
   "metadata": {},
   "outputs": [],
   "source": [
    "inter = inter.merge(GHA_distr216, on='ID_1')"
   ]
  },
  {
   "cell_type": "code",
   "execution_count": null,
   "metadata": {},
   "outputs": [],
   "source": [
    "inter"
   ]
  },
  {
   "cell_type": "code",
   "execution_count": null,
   "metadata": {},
   "outputs": [],
   "source": [
    "#inter.to_file(os.path.join(\n",
    "#basepath,'data','nature','GHA_runoffRed_district.gpkg'), layer='runoff_distr', driver=\"GPKG\")"
   ]
  },
  {
   "cell_type": "code",
   "execution_count": null,
   "metadata": {},
   "outputs": [],
   "source": [
    "interres_path = os.path.join(\n",
    "    basepath, 'data','nature', 'runoffDistrict.csv')\n",
    "\n",
    "inter.to_csv(interres_path)"
   ]
  },
  {
   "cell_type": "markdown",
   "metadata": {},
   "source": [
    "# Wetlands OSM"
   ]
  },
  {
   "cell_type": "code",
   "execution_count": null,
   "metadata": {},
   "outputs": [],
   "source": [
    "wetlandpath = os.path.join(basepath,'incoming/land-use-land-cover/OSM wetlands/wetlands.shp')\n",
    "GHA_wetland = gpd.read_file(wetlandpath)"
   ]
  },
  {
   "cell_type": "code",
   "execution_count": null,
   "metadata": {},
   "outputs": [],
   "source": [
    "GHA_wetland = GHA_wetland.to_crs(\"EPSG:32630\")"
   ]
  },
  {
   "cell_type": "code",
   "execution_count": null,
   "metadata": {},
   "outputs": [],
   "source": [
    "GHA_wetland = GHA_wetland[['wetland','name','amenity','geometry']]\n",
    "GHA_wetland = GHA_wetland.reset_index()\n",
    "GHA_wetland = GHA_wetland.rename(columns = {'index':'ID','name':'NAME','amenity':'AMENITY'})"
   ]
  },
  {
   "cell_type": "code",
   "execution_count": null,
   "metadata": {},
   "outputs": [],
   "source": [
    "GHA_wetland.head()"
   ]
  },
  {
   "cell_type": "code",
   "execution_count": null,
   "metadata": {},
   "outputs": [],
   "source": [
    "GHA_wetland.to_file(os.path.join(\n",
    "basepath,'data','nature','GHA_wetlands.gpkg'), layer'wetlands', driver=\"GPKG\")"
   ]
  },
  {
   "cell_type": "markdown",
   "metadata": {},
   "source": []
  }
 ],
 "metadata": {
  "kernelspec": {
   "display_name": "Python 3",
   "language": "python",
   "name": "python3"
  },
  "language_info": {
   "codemirror_mode": {
    "name": "ipython",
    "version": 3
   },
   "file_extension": ".py",
   "mimetype": "text/x-python",
   "name": "python",
   "nbconvert_exporter": "python",
   "pygments_lexer": "ipython3",
   "version": "3.7.9"
  }
 },
 "nbformat": 4,
 "nbformat_minor": 4
}
