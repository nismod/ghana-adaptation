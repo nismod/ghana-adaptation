{
 "cells": [
  {
   "cell_type": "code",
   "execution_count": null,
   "metadata": {},
   "outputs": [],
   "source": [
    "%matplotlib inline\n",
    "import pandas as pd\n",
    "import geopandas as gpd\n",
    "import os"
   ]
  },
  {
   "cell_type": "code",
   "execution_count": null,
   "metadata": {},
   "outputs": [],
   "source": [
    "os.getcwd()"
   ]
  },
  {
   "cell_type": "code",
   "execution_count": null,
   "metadata": {},
   "outputs": [],
   "source": [
    "basepath = 'C:\\\\Users\\\\Sarah\\\\Nexus365\\\\Tom Russell - ghana-oxford-infrastructure-adaptation-2020'"
   ]
  },
  {
   "cell_type": "code",
   "execution_count": null,
   "metadata": {},
   "outputs": [],
   "source": [
    "ghana = gpd.read_file(os.path.join(basepath, 'incoming\\\\Ghana.shp'))"
   ]
  },
  {
   "cell_type": "markdown",
   "metadata": {},
   "source": [
    "# Transportation"
   ]
  },
  {
   "cell_type": "code",
   "execution_count": null,
   "metadata": {},
   "outputs": [],
   "source": [
    "transpath = os.path.join(basepath,'incoming/transport')"
   ]
  },
  {
   "cell_type": "markdown",
   "metadata": {},
   "source": [
    "## Transportation - Roads"
   ]
  },
  {
   "cell_type": "markdown",
   "metadata": {},
   "source": [
    "There are two Road dataframes, one from OSM for entire Ghana and one from the Ghana open data for the Greater Accra Metropolitan Area (GAMA)"
   ]
  },
  {
   "cell_type": "markdown",
   "metadata": {},
   "source": [
    "### Greater Accra Metropolitan Area Roads Dataframe"
   ]
  },
  {
   "cell_type": "code",
   "execution_count": null,
   "metadata": {},
   "outputs": [],
   "source": [
    "roadspath = os.path.join(transpath,'Roads')"
   ]
  },
  {
   "cell_type": "code",
   "execution_count": null,
   "metadata": {},
   "outputs": [],
   "source": [
    "GHA_GAMA_roads = gpd.read_file(os.path.join(roadspath,'ID 37 GAMA Roads - Ghana Open Data Initiative/GAMA Roads/GAMA_Roads.shp'))"
   ]
  },
  {
   "cell_type": "code",
   "execution_count": null,
   "metadata": {},
   "outputs": [],
   "source": [
    "GHA_GAMA_roads = GHA_GAMA_roads.set_crs(\"EPSG:4326\")"
   ]
  },
  {
   "cell_type": "code",
   "execution_count": null,
   "metadata": {},
   "outputs": [],
   "source": [
    "GHA_GAMA_roads = GHA_GAMA_roads[['UNIQUE_REF','LENGTH','ROADNAME','FROMNODE','TONODE','ROAD_NAME','geometry']]\n",
    "GHA_GAMA_roads = GHA_GAMA_roads.reset_index()\n",
    "GHA_GAMA_roads = GHA_GAMA_roads.rename(columns = {\n",
    "    'index':'ID','FROMNODE':'FROM_NODE','TONODE':'TO_NODE'})"
   ]
  },
  {
   "cell_type": "markdown",
   "metadata": {},
   "source": [
    "print(GHA_GAMA_roads['ROADNAME'][2])\n",
    "None==None\n",
    "\n",
    "import numpy as np\n",
    "GHA_GAMA_roads['ROADNAME'].replace(np.nan, '', inplace-True)"
   ]
  },
  {
   "cell_type": "markdown",
   "metadata": {},
   "source": [
    "GHA_GAMA_roads['NAME'] = GHA_GAMA_roads[['ROADNAME','ROAD_NAME']].agg(''.join, axis=1)"
   ]
  },
  {
   "cell_type": "markdown",
   "metadata": {},
   "source": [
    "GHA_GAMA_roads['ROADNAME'].fillna(GHA_GAMA_roads['ROAD_NAME'])"
   ]
  },
  {
   "cell_type": "markdown",
   "metadata": {},
   "source": [
    "**Columns that got deleted:** METRO, SUBMETRO, ROADCLASS, ROADNUMBER, LINKNUMBER, CLINECLN_, CLINECLN_I, NAME, Field_Ref, Remark, File_No, ID, Check, DXF_ELEVAT, DXF_LAYER, SUB_METRO, LINKNO, SOURCETHM, Field_ID\n",
    "\n",
    "UNIQUE_REF consists of METRO-SUBMETRO-ROADCLASS-ROADNUMBER-LINKNUMBER"
   ]
  },
  {
   "cell_type": "code",
   "execution_count": null,
   "metadata": {},
   "outputs": [],
   "source": [
    "GHA_GAMA_roads.head()"
   ]
  },
  {
   "cell_type": "code",
   "execution_count": null,
   "metadata": {},
   "outputs": [],
   "source": [
    "GHA_GAMA_roads.to_file(os.path.join(\n",
    "basepath,'data','infrastructure','GHA_GAMA_roads.shp'))"
   ]
  },
  {
   "cell_type": "markdown",
   "metadata": {},
   "source": [
    "### Open Street Maps Roads Dataframe"
   ]
  },
  {
   "cell_type": "code",
   "execution_count": null,
   "metadata": {},
   "outputs": [],
   "source": [
    "GHA_OSM_roads = gpd.read_file(os.path.join(basepath,'incoming/openstreetmap/ghana-latest-free.shp/gis_osm_roads_free_1.shp'))"
   ]
  },
  {
   "cell_type": "code",
   "execution_count": null,
   "metadata": {},
   "outputs": [],
   "source": [
    "GHA_OSM_roads = GHA_OSM_roads.set_crs(\"EPSG:4326\")"
   ]
  },
  {
   "cell_type": "code",
   "execution_count": null,
   "metadata": {},
   "outputs": [],
   "source": [
    "GHA_OSM_roads = GHA_OSM_roads[['fclass','name','oneway','bridge','tunnel','geometry']]\n",
    "GHA_OSM_roads = GHA_OSM_roads.reset_index()\n",
    "GHA_OSM_roads = GHA_OSM_roads.rename(columns = {\n",
    "    'index':'ID','fclass':'TYPE','name':'NAME','oneway':'ONEWAY','bridge':'BRIDGE','tunnel':'TUNNEL'})"
   ]
  },
  {
   "cell_type": "code",
   "execution_count": null,
   "metadata": {},
   "outputs": [],
   "source": [
    "GHA_OSM_roads.head()"
   ]
  },
  {
   "cell_type": "code",
   "execution_count": null,
   "metadata": {},
   "outputs": [],
   "source": [
    "GHA_OSM_roads.to_file(os.path.join(\n",
    "basepath,'data','infrastructure','GHA_OSM_roads.shp'))"
   ]
  },
  {
   "cell_type": "markdown",
   "metadata": {},
   "source": [
    "## Transportation - Railway"
   ]
  },
  {
   "cell_type": "code",
   "execution_count": null,
   "metadata": {},
   "outputs": [],
   "source": [
    "railpath = os.path.join(transpath,'Railway')"
   ]
  },
  {
   "cell_type": "markdown",
   "metadata": {},
   "source": [
    "Loading Railway Data one"
   ]
  },
  {
   "cell_type": "code",
   "execution_count": null,
   "metadata": {},
   "outputs": [],
   "source": [
    "GHA_railway_new = gpd.read_file(os.path.join(railpath,'ID 11 Railway - World Bank Data Catalog/GhanaRail_PIP.shp'))"
   ]
  },
  {
   "cell_type": "code",
   "execution_count": null,
   "metadata": {},
   "outputs": [],
   "source": [
    "GHA_railway_new = GHA_railway_new.set_crs(\"EPSG:4326\")"
   ]
  },
  {
   "cell_type": "code",
   "execution_count": null,
   "metadata": {},
   "outputs": [],
   "source": [
    "GHA_railway_new = GHA_railway_new[['PROJECT_NA','INTERVENTI','LENGTH_KM','Final_COST','Status','NOTES','geometry']]\n",
    "GHA_railway_new = GHA_railway_new.rename(columns = {\n",
    "    'index':'ID','PROJECT_NA':'PROJECT_NAME','INTERVENTI':'INTERVENTION','LENGTH_KM':'LENGTH_km','Final_COST':'COST','Status':'STATUS'})"
   ]
  },
  {
   "cell_type": "code",
   "execution_count": null,
   "metadata": {},
   "outputs": [],
   "source": [
    "GHA_railway_new.head()"
   ]
  },
  {
   "cell_type": "code",
   "execution_count": null,
   "metadata": {},
   "outputs": [],
   "source": [
    "GHA_railway_new.to_file(os.path.join(\n",
    "basepath,'data','infrastructure','GHA_railway_new.shp'))"
   ]
  },
  {
   "cell_type": "markdown",
   "metadata": {},
   "source": [
    "### Existing Railway Lines in the south of Ghana Dataframe"
   ]
  },
  {
   "cell_type": "code",
   "execution_count": null,
   "metadata": {},
   "outputs": [],
   "source": [
    "GHA_railway_old = gpd.read_file(os.path.join(railpath,'RailwayGhanaextracted_fromOSM/Railroad_Ghana.shp'))"
   ]
  },
  {
   "cell_type": "code",
   "execution_count": null,
   "metadata": {},
   "outputs": [],
   "source": [
    "GHA_railway_old = GHA_railway_old.set_crs(\"EPSG:4326\")"
   ]
  },
  {
   "cell_type": "code",
   "execution_count": null,
   "metadata": {},
   "outputs": [],
   "source": [
    "GHA_railway_old = GHA_railway_old[['Line','geometry']]\n",
    "GHA_railway_old = GHA_railway_old.rename(columns = {'Line':'LINE'})"
   ]
  },
  {
   "cell_type": "code",
   "execution_count": null,
   "metadata": {},
   "outputs": [],
   "source": [
    "GHA_railway_old.head()"
   ]
  },
  {
   "cell_type": "code",
   "execution_count": null,
   "metadata": {},
   "outputs": [],
   "source": [
    "GHA_railway_old.to_file(os.path.join(\n",
    "basepath,'data','infrastructure','GHA_railway_old.shp'))"
   ]
  },
  {
   "cell_type": "markdown",
   "metadata": {},
   "source": [
    "### Concat both dataframes"
   ]
  },
  {
   "cell_type": "markdown",
   "metadata": {},
   "source": [
    "GHA_railway_concat = pd.concat([GHA_railway_old, GHA_railway_new], sort=False)"
   ]
  },
  {
   "cell_type": "code",
   "execution_count": null,
   "metadata": {},
   "outputs": [],
   "source": []
  },
  {
   "cell_type": "markdown",
   "metadata": {},
   "source": [
    "## Transportation - Trainstations"
   ]
  },
  {
   "cell_type": "code",
   "execution_count": null,
   "metadata": {},
   "outputs": [],
   "source": [
    "trainst_path = os.path.join(transpath, 'Railway/Trainstations_extracted.shp')\n",
    "GHA_trainstations = gpd.read_file(trainst_path)"
   ]
  },
  {
   "cell_type": "code",
   "execution_count": null,
   "metadata": {},
   "outputs": [],
   "source": [
    "GHA_trainstations = GHA_trainstations.set_crs(\"EPSG:4326\")"
   ]
  },
  {
   "cell_type": "code",
   "execution_count": null,
   "metadata": {},
   "outputs": [],
   "source": [
    "GHA_trainstations = GHA_trainstations [['NAME_', 'PROJECT_NA', 'INTERVENTI', 'Status', 'NOTES', 'geometry']]\n",
    "GHA_trainstations = GHA_trainstations.reset_index()\n",
    "GHA_trainstations = GHA_trainstations.rename(columns = {'index':'ID','NAME_':'NAME','PROJECT_NA':'PROJECT_NAME','INTERVENTI':'INTERVENTION','Status':'STATUS'})"
   ]
  },
  {
   "cell_type": "code",
   "execution_count": null,
   "metadata": {},
   "outputs": [],
   "source": [
    "GHA_trainstations.head()"
   ]
  },
  {
   "cell_type": "code",
   "execution_count": null,
   "metadata": {},
   "outputs": [],
   "source": [
    "GHA_trainstations.to_file(os.path.join(\n",
    "basepath,'data','infrastructure','GHA_trainstations.shp'))"
   ]
  },
  {
   "cell_type": "markdown",
   "metadata": {},
   "source": [
    "## Transportation - Airports"
   ]
  },
  {
   "cell_type": "markdown",
   "metadata": {},
   "source": [
    "#### International Airports - World Bank Dataset"
   ]
  },
  {
   "cell_type": "code",
   "execution_count": null,
   "metadata": {},
   "outputs": [],
   "source": [
    "airport_path = os.path.join(transpath, 'Airports/ID 13 Airports - World Bank Data Catalog/GHA_Airports.shp')\n",
    "GHA_airports = gpd.read_file(airport_path)"
   ]
  },
  {
   "cell_type": "code",
   "execution_count": null,
   "metadata": {},
   "outputs": [],
   "source": [
    "GHA_airports = GHA_airports.set_crs(\"EPSG:4326\")"
   ]
  },
  {
   "cell_type": "code",
   "execution_count": null,
   "metadata": {},
   "outputs": [],
   "source": [
    "GHA_airports = GHA_airports [['NAME','ICAO_','geometry']]\n",
    "\n",
    "GHA_airports = GHA_airports.reset_index()\n",
    "\n",
    "GHA_airports = GHA_airports.rename(columns = {\n",
    "        'index': 'ID', 'ICAO_':'ICAO' })"
   ]
  },
  {
   "cell_type": "code",
   "execution_count": null,
   "metadata": {},
   "outputs": [],
   "source": [
    "GHA_airports.head()"
   ]
  },
  {
   "cell_type": "code",
   "execution_count": null,
   "metadata": {},
   "outputs": [],
   "source": [
    "airport_reg_path = os.path.join(transpath, 'Airports/Ghana regional airports/regional_airports.shp')\n",
    "GHA_airports_reg = gpd.read_file(airport_reg_path)"
   ]
  },
  {
   "cell_type": "code",
   "execution_count": null,
   "metadata": {},
   "outputs": [],
   "source": [
    "GHA_airports_reg = GHA_airports_reg.set_crs(\"EPSG:4326\")"
   ]
  },
  {
   "cell_type": "code",
   "execution_count": null,
   "metadata": {},
   "outputs": [],
   "source": [
    "GHA_airports_reg = GHA_airports_reg [['Name','Location','Type', 'ICAO','geometry']]\n",
    "\n",
    "GHA_airports_reg = GHA_airports_reg.reset_index()\n",
    "\n",
    "GHA_airports_reg = GHA_airports_reg.rename(columns = {\n",
    "        'index': 'ID', 'Name':'NAME', 'Location':'LOCATION', 'Type':'TYPE', 'ICAO_':'ICAO' })"
   ]
  },
  {
   "cell_type": "code",
   "execution_count": null,
   "metadata": {},
   "outputs": [],
   "source": [
    "GHA_airports_reg.head()"
   ]
  },
  {
   "cell_type": "code",
   "execution_count": null,
   "metadata": {},
   "outputs": [],
   "source": [
    "GHA_airports_concat = pd.concat([GHA_airports, GHA_airports_reg], sort=False)\n",
    "\n"
   ]
  },
  {
   "cell_type": "code",
   "execution_count": null,
   "metadata": {},
   "outputs": [],
   "source": [
    "GHA_airports_concat.to_file(os.path.join(\n",
    "basepath,'data','infrastructure','GHA_airports.shp'))"
   ]
  },
  {
   "cell_type": "markdown",
   "metadata": {},
   "source": [
    "## Transportation - Ports"
   ]
  },
  {
   "cell_type": "code",
   "execution_count": null,
   "metadata": {},
   "outputs": [],
   "source": [
    "ports_path = os.path.join(transpath,'Ports\\ID 10 Ports - World Bank Data Catalog/GhanaPorts.shp')\n",
    "GHA_ports = gpd.read_file(ports_path)"
   ]
  },
  {
   "cell_type": "code",
   "execution_count": null,
   "metadata": {},
   "outputs": [],
   "source": [
    "GHA_ports = GHA_ports.set_crs(\"EPSG:4326\")"
   ]
  },
  {
   "cell_type": "code",
   "execution_count": null,
   "metadata": {},
   "outputs": [],
   "source": [
    "GHA_ports = GHA_ports [['MAIN_PORT_','GCTOT_YR','GCTOT','TEUTOT_YR','TEUTOT','TEUCAP','GCCAP','PROJECT_NA','INTERVENTI','Final_COST','Status','NOTES','geometry']]\n",
    "\n",
    "GHA_ports = GHA_ports.reset_index()\n",
    "\n",
    "GHA_ports = GHA_ports.rename(columns = {\n",
    "        'index': 'ID','MAIN_PORT_':'NAME','PROJECT_NA':'PROJECT_NAME','INTERVENTI':'INTERVENTION','Final_COST':'COST','Status':'STATUS'})"
   ]
  },
  {
   "cell_type": "code",
   "execution_count": null,
   "metadata": {},
   "outputs": [],
   "source": [
    "GHA_ports.head()"
   ]
  },
  {
   "cell_type": "code",
   "execution_count": null,
   "metadata": {},
   "outputs": [],
   "source": [
    "GHA_ports.to_file(os.path.join(\n",
    "basepath,'data','infrastructure','GHA_ports.shp'))"
   ]
  },
  {
   "cell_type": "code",
   "execution_count": null,
   "metadata": {},
   "outputs": [],
   "source": []
  }
 ],
 "metadata": {
  "kernelspec": {
   "display_name": "Python 3",
   "language": "python",
   "name": "python3"
  },
  "language_info": {
   "codemirror_mode": {
    "name": "ipython",
    "version": 3
   },
   "file_extension": ".py",
   "mimetype": "text/x-python",
   "name": "python",
   "nbconvert_exporter": "python",
   "pygments_lexer": "ipython3",
   "version": "3.7.9"
  }
 },
 "nbformat": 4,
 "nbformat_minor": 4
}
