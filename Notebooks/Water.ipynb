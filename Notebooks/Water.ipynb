{
 "cells": [
  {
   "cell_type": "code",
   "execution_count": null,
   "metadata": {},
   "outputs": [],
   "source": [
    "%matplotlib inline\n",
    "import pandas as pd\n",
    "import geopandas as gpd\n",
    "import os"
   ]
  },
  {
   "cell_type": "code",
   "execution_count": null,
   "metadata": {},
   "outputs": [],
   "source": [
    "os.getcwd()"
   ]
  },
  {
   "cell_type": "code",
   "execution_count": null,
   "metadata": {},
   "outputs": [],
   "source": [
    "basepath = 'C:\\\\Users\\\\Sarah\\\\Nexus365\\\\Tom Russell - ghana-oxford-infrastructure-adaptation-2020'"
   ]
  },
  {
   "cell_type": "code",
   "execution_count": null,
   "metadata": {},
   "outputs": [],
   "source": [
    "ghana = gpd.read_file(os.path.join(basepath, 'incoming\\\\Ghana.shp'))"
   ]
  },
  {
   "cell_type": "markdown",
   "metadata": {},
   "source": [
    "# Water"
   ]
  },
  {
   "cell_type": "code",
   "execution_count": null,
   "metadata": {},
   "outputs": [],
   "source": [
    "waterpath = os.path.join(basepath,'incoming/water')"
   ]
  },
  {
   "cell_type": "markdown",
   "metadata": {},
   "source": [
    "## Water - Dams"
   ]
  },
  {
   "cell_type": "markdown",
   "metadata": {},
   "source": [
    "There are two dam datasets. One covers dams all over Ghana, the second one, which we got from Eric, is only covering the greater Accra Area."
   ]
  },
  {
   "cell_type": "markdown",
   "metadata": {},
   "source": [
    "### Dataframe Entire Ghana:"
   ]
  },
  {
   "cell_type": "code",
   "execution_count": null,
   "metadata": {},
   "outputs": [],
   "source": [
    "dams_path = os.path.join(waterpath, 'Dams/ID 14 Dams - World Bank Data Catalog/gha_dams_AICD.shp')\n",
    "GHA_dams = gpd.read_file(dams_path)"
   ]
  },
  {
   "cell_type": "code",
   "execution_count": null,
   "metadata": {},
   "outputs": [],
   "source": [
    "GHA_dams = GHA_dams.set_crs(\"EPSG:4326\")"
   ]
  },
  {
   "cell_type": "code",
   "execution_count": null,
   "metadata": {},
   "outputs": [],
   "source": [
    "GHA_dams = GHA_dams[['NAME','ADMIN','CITY','RIVER','MAJ_BAS','SUB_BAS','CAP_AICD','AREA','HEIGHT','geometry']]\n",
    "GHA_dams = GHA_dams.rename(columns = {\n",
    "    'MAJ_BAS':'BASIN', 'SUB_BAS':'SUB_BASIN', 'CAP_AICD':'CAPACITY'})\n"
   ]
  },
  {
   "cell_type": "markdown",
   "metadata": {},
   "source": [
    "**Columns that gotdeleted:** Code, REFA, REFB, REF_LOC, NUM, ISO_3, GAUL_CODE, COUNTRY, YEAR, CONST, SEDIMENT, IRRIGATION, SUPPLY, FLOOD, ELECTR, NAVIGATION, RECREATION, POLLUTION, LIVESTOCK, OTHER, LAT & LONG, DDLAT & DDLONG, SURVEY, NOTES, ISO_CTRY, AICD_CTRY, LARGEICOLD, Capacity_M"
   ]
  },
  {
   "cell_type": "code",
   "execution_count": null,
   "metadata": {},
   "outputs": [],
   "source": [
    "GHA_dams.head()"
   ]
  },
  {
   "cell_type": "markdown",
   "metadata": {},
   "source": [
    "### Dataframe Greater Accra Dams:"
   ]
  },
  {
   "cell_type": "code",
   "execution_count": null,
   "metadata": {},
   "outputs": [],
   "source": [
    "damsAccra_path = os.path.join(waterpath, 'Dams/ID59-Dams_Greater_Accra/ID59-Dams_Greater_Accra.shp')\n",
    "GHA_damsAccra = gpd.read_file(damsAccra_path)"
   ]
  },
  {
   "cell_type": "code",
   "execution_count": null,
   "metadata": {},
   "outputs": [],
   "source": [
    "GHA_damsAccra = GHA_damsAccra.set_crs(\"EPSG:4326\")"
   ]
  },
  {
   "cell_type": "code",
   "execution_count": null,
   "metadata": {},
   "outputs": [],
   "source": [
    "GHA_damsAccra = GHA_damsAccra[['Name of to','District','Basin','River syst','Local stre','Purpose','Owner','User','Responsibl','Visual dam','Dam height','Population','geometry']]\n",
    "GHA_damsAccra = GHA_damsAccra.rename(columns = {'Name of to':'NAME','District':'DISTRICT','Basin':'SUB_BASIN','River syst':'BASIN','Local stre':'RIVER','Purpose':'PURPOSE','Owner':'OWNER','User':'USER','Responsibl':'RESPONSIBILE','Visual dam':'DAMAGE','Dam height':'HEIGHT','Population':'POPULATION'})"
   ]
  },
  {
   "cell_type": "markdown",
   "metadata": {},
   "source": [
    "**Columns that got deleted:** Type, Long & Lat, Year of Construction(Constructi), Type of se, Topcover_W, Topcover_D, Boulders f, Position of Damage (Position o), Extent of Damage (Extent of), Water level (Water leve), Total dam, Social and, Class of d"
   ]
  },
  {
   "cell_type": "code",
   "execution_count": null,
   "metadata": {},
   "outputs": [],
   "source": [
    "GHA_damsAccra.head()"
   ]
  },
  {
   "cell_type": "markdown",
   "metadata": {},
   "source": [
    "### Concatenate both dataframesa, all columns remain unchanged"
   ]
  },
  {
   "cell_type": "code",
   "execution_count": null,
   "metadata": {},
   "outputs": [],
   "source": [
    "GHA_dams_concat = pd.concat([GHA_dams, GHA_damsAccra], sort=False, keys=['entGHA','GreaterAccra'])\n",
    "GHA_dams_concat = GHA_dams_concat.reset_index()"
   ]
  },
  {
   "cell_type": "code",
   "execution_count": null,
   "metadata": {},
   "outputs": [],
   "source": [
    "GHA_dams_concat"
   ]
  },
  {
   "cell_type": "code",
   "execution_count": null,
   "metadata": {},
   "outputs": [],
   "source": [
    "GHA_dams_concat.to_file(os.path.join(\n",
    "basepath,'data','infrastructure','GHA_dams.shp'))"
   ]
  },
  {
   "cell_type": "code",
   "execution_count": null,
   "metadata": {},
   "outputs": [],
   "source": []
  },
  {
   "cell_type": "code",
   "execution_count": null,
   "metadata": {},
   "outputs": [],
   "source": []
  }
 ],
 "metadata": {
  "kernelspec": {
   "display_name": "Python 3",
   "language": "python",
   "name": "python3"
  },
  "language_info": {
   "codemirror_mode": {
    "name": "ipython",
    "version": 3
   },
   "file_extension": ".py",
   "mimetype": "text/x-python",
   "name": "python",
   "nbconvert_exporter": "python",
   "pygments_lexer": "ipython3",
   "version": "3.7.9"
  }
 },
 "nbformat": 4,
 "nbformat_minor": 4
}
